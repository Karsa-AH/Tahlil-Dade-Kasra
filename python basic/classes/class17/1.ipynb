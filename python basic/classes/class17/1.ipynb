{
 "cells": [
  {
   "cell_type": "code",
   "execution_count": 9,
   "id": "213c344c",
   "metadata": {},
   "outputs": [],
   "source": [
    "import tkinter as tk\n",
    "\n",
    "root = tk.Tk()\n",
    "root.title(\"first window!\")\n",
    "lable = tk.Label(root , text= \" hi!\")\n",
    "\n",
    "lable.place(x=100,y=80)\n",
    "root.mainloop()"
   ]
  },
  {
   "cell_type": "code",
   "execution_count": 13,
   "id": "bba23ba3",
   "metadata": {},
   "outputs": [],
   "source": [
    "import tkinter as tk\n",
    "\n",
    "def hi():\n",
    "    lable.config(text=\"you said hi?\")\n",
    "root = tk.Tk()\n",
    "root.title(\"first window!\")\n",
    "lable = tk.Label(root , text= \" click it!\")\n",
    "button=tk.Button(root , text=\"click\" , command=hi)\n",
    "button.pack()\n",
    "lable.pack()\n",
    "root.mainloop()"
   ]
  },
  {
   "cell_type": "code",
   "execution_count": 20,
   "id": "546d2515",
   "metadata": {},
   "outputs": [],
   "source": [
    "import tkinter as tk\n",
    "s=0\n",
    "def num():\n",
    "    global s\n",
    "    s = s + 1\n",
    "    la.config(text=str(s))\n",
    "    if s%2 == 0:\n",
    "        lable.config(text=\"zog\")\n",
    "    else :\n",
    "        lable.config(text=\"fard\")\n",
    "\n",
    "root = tk.Tk()\n",
    "root.title(\"first window!\")\n",
    "lable = tk.Label(root , text= \"is this number fard or zog?\")\n",
    "la = tk.Label(root , text= \"number of time you clicked button\")\n",
    "button=tk.Button(root , text=\"click\" , command=num)\n",
    "button.pack()\n",
    "lable.pack()\n",
    "la.pack()\n",
    "root.mainloop()"
   ]
  },
  {
   "cell_type": "code",
   "execution_count": 22,
   "id": "99e03980",
   "metadata": {},
   "outputs": [],
   "source": [
    "import tkinter as tk\n",
    "\n",
    "def hi():\n",
    "    lable.config(text=f\"hi {entry.get()}\")\n",
    "root = tk.Tk()\n",
    "root.title(\"first window!\")\n",
    "lable = tk.Label(root , text= \" hi!\")\n",
    "\n",
    "entry=tk.Entry(root)\n",
    "entry.pack()\n",
    "\n",
    "button=tk.Button(root , text=\"click\" , command=hi)\n",
    "button.pack()\n",
    "\n",
    "lable.pack()\n",
    "root.mainloop()"
   ]
  }
 ],
 "metadata": {
  "kernelspec": {
   "display_name": "Python 3",
   "language": "python",
   "name": "python3"
  },
  "language_info": {
   "codemirror_mode": {
    "name": "ipython",
    "version": 3
   },
   "file_extension": ".py",
   "mimetype": "text/x-python",
   "name": "python",
   "nbconvert_exporter": "python",
   "pygments_lexer": "ipython3",
   "version": "3.10.7"
  }
 },
 "nbformat": 4,
 "nbformat_minor": 5
}
