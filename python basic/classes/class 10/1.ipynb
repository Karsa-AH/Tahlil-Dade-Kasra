{
 "cells": [
  {
   "cell_type": "markdown",
   "id": "e616dddb",
   "metadata": {},
   "source": [
    "### with"
   ]
  },
  {
   "cell_type": "code",
   "execution_count": 1,
   "id": "e8f53576",
   "metadata": {},
   "outputs": [],
   "source": [
    "def read_ln(n=0,p=\"\"):\n",
    "    with open(p) as f:\n",
    "        li=f.readlines()\n",
    "    return  li"
   ]
  },
  {
   "cell_type": "markdown",
   "id": "c475a50d",
   "metadata": {},
   "source": [
    "this (with) will close the file as soon as it finished his job . this means we dont have to close file every time"
   ]
  },
  {
   "cell_type": "code",
   "execution_count": 6,
   "id": "c6f8b994",
   "metadata": {},
   "outputs": [
    {
     "data": {
      "text/plain": [
       "['this is  a sample test \\n',\n",
       " 'I am Kasra\\n',\n",
       " 'I live in Tehran \\n',\n",
       " 'and i have a massage :\\n',\n",
       " 'Hello World']"
      ]
     },
     "execution_count": 6,
     "metadata": {},
     "output_type": "execute_result"
    }
   ],
   "source": [
    "read_ln(p=r\"C:\\Users\\Asus\\Desktop\\tahlil dade\\home_works\\t9\\sample.txt\")"
   ]
  },
  {
   "cell_type": "markdown",
   "id": "035db1e2",
   "metadata": {},
   "source": [
    "### writting files"
   ]
  },
  {
   "cell_type": "code",
   "execution_count": 14,
   "id": "a8720ca9",
   "metadata": {},
   "outputs": [],
   "source": [
    "with open(r\"sample1.txt\",\"w\") as f:\n",
    "    f.write(\"this is writing methode \\nhello woorld!!!\")\n"
   ]
  },
  {
   "cell_type": "markdown",
   "id": "96ca5d5d",
   "metadata": {},
   "source": [
    "in write mode if the given path dosent exist , it will create one"
   ]
  },
  {
   "cell_type": "code",
   "execution_count": 13,
   "id": "d34bd0cc",
   "metadata": {},
   "outputs": [],
   "source": [
    "with open(r\"sample1.txt\",\"w\") as f:\n",
    "    pass\n"
   ]
  },
  {
   "cell_type": "markdown",
   "id": "09d38a56",
   "metadata": {},
   "source": [
    "this will empty your txt file!"
   ]
  },
  {
   "cell_type": "markdown",
   "id": "bf674233",
   "metadata": {},
   "source": [
    "so we should open with mode append to add to saved data"
   ]
  },
  {
   "cell_type": "code",
   "execution_count": 17,
   "id": "f7054079",
   "metadata": {},
   "outputs": [],
   "source": [
    "with open(r\"sample1.txt\",\"a\") as f:\n",
    "    f.write(\"\\nso I added this\")"
   ]
  },
  {
   "cell_type": "markdown",
   "id": "e4f851ea",
   "metadata": {},
   "source": [
    "also in append mode if the file dosent exist , it will create one"
   ]
  },
  {
   "cell_type": "code",
   "execution_count": 18,
   "id": "c622284f",
   "metadata": {},
   "outputs": [],
   "source": [
    "with open(r\"sample12.txt\",\"a\") as f:\n",
    "    pass"
   ]
  },
  {
   "cell_type": "markdown",
   "id": "860f5ccd",
   "metadata": {},
   "source": [
    "X mode will only create one . if it exist it will raise exist eror"
   ]
  },
  {
   "cell_type": "code",
   "execution_count": 19,
   "id": "bcff32c4",
   "metadata": {},
   "outputs": [
    {
     "ename": "FileExistsError",
     "evalue": "[Errno 17] File exists: 'sample12.txt'",
     "output_type": "error",
     "traceback": [
      "\u001b[1;31m---------------------------------------------------------------------------\u001b[0m",
      "\u001b[1;31mFileExistsError\u001b[0m                           Traceback (most recent call last)",
      "Cell \u001b[1;32mIn[19], line 1\u001b[0m\n\u001b[1;32m----> 1\u001b[0m \u001b[38;5;28;01mwith\u001b[39;00m \u001b[38;5;28;43mopen\u001b[39;49m\u001b[43m(\u001b[49m\u001b[38;5;124;43mr\u001b[39;49m\u001b[38;5;124;43m\"\u001b[39;49m\u001b[38;5;124;43msample12.txt\u001b[39;49m\u001b[38;5;124;43m\"\u001b[39;49m\u001b[43m,\u001b[49m\u001b[38;5;124;43m\"\u001b[39;49m\u001b[38;5;124;43mx\u001b[39;49m\u001b[38;5;124;43m\"\u001b[39;49m\u001b[43m)\u001b[49m \u001b[38;5;28;01mas\u001b[39;00m f:\n\u001b[0;32m      2\u001b[0m     \u001b[38;5;28;01mpass\u001b[39;00m\n",
      "File \u001b[1;32mc:\\Users\\Asus\\AppData\\Local\\Programs\\Python\\Python310\\lib\\site-packages\\IPython\\core\\interactiveshell.py:324\u001b[0m, in \u001b[0;36m_modified_open\u001b[1;34m(file, *args, **kwargs)\u001b[0m\n\u001b[0;32m    317\u001b[0m \u001b[38;5;28;01mif\u001b[39;00m file \u001b[38;5;129;01min\u001b[39;00m {\u001b[38;5;241m0\u001b[39m, \u001b[38;5;241m1\u001b[39m, \u001b[38;5;241m2\u001b[39m}:\n\u001b[0;32m    318\u001b[0m     \u001b[38;5;28;01mraise\u001b[39;00m \u001b[38;5;167;01mValueError\u001b[39;00m(\n\u001b[0;32m    319\u001b[0m         \u001b[38;5;124mf\u001b[39m\u001b[38;5;124m\"\u001b[39m\u001b[38;5;124mIPython won\u001b[39m\u001b[38;5;124m'\u001b[39m\u001b[38;5;124mt let you open fd=\u001b[39m\u001b[38;5;132;01m{\u001b[39;00mfile\u001b[38;5;132;01m}\u001b[39;00m\u001b[38;5;124m by default \u001b[39m\u001b[38;5;124m\"\u001b[39m\n\u001b[0;32m    320\u001b[0m         \u001b[38;5;124m\"\u001b[39m\u001b[38;5;124mas it is likely to crash IPython. If you know what you are doing, \u001b[39m\u001b[38;5;124m\"\u001b[39m\n\u001b[0;32m    321\u001b[0m         \u001b[38;5;124m\"\u001b[39m\u001b[38;5;124myou can use builtins\u001b[39m\u001b[38;5;124m'\u001b[39m\u001b[38;5;124m open.\u001b[39m\u001b[38;5;124m\"\u001b[39m\n\u001b[0;32m    322\u001b[0m     )\n\u001b[1;32m--> 324\u001b[0m \u001b[38;5;28;01mreturn\u001b[39;00m io_open(file, \u001b[38;5;241m*\u001b[39margs, \u001b[38;5;241m*\u001b[39m\u001b[38;5;241m*\u001b[39mkwargs)\n",
      "\u001b[1;31mFileExistsError\u001b[0m: [Errno 17] File exists: 'sample12.txt'"
     ]
    }
   ],
   "source": [
    "with open(r\"sample12.txt\",\"x\") as f:\n",
    "    pass"
   ]
  },
  {
   "cell_type": "code",
   "execution_count": null,
   "id": "0b67851a",
   "metadata": {},
   "outputs": [],
   "source": [
    "with open(r\"sample1.txt\",\"r\") as f:\n",
    "    line=(f.readlines())\n",
    "\n",
    "with open(r\"sample12.txt\",\"a\") as d:\n",
    "    for i in line:\n",
    "        i=i.replace(\" \",\"*\")\n",
    "        d.write(i)\n",
    "    "
   ]
  },
  {
   "cell_type": "markdown",
   "id": "a0dead3f",
   "metadata": {},
   "source": [
    "### learning OS"
   ]
  },
  {
   "cell_type": "code",
   "execution_count": 12,
   "id": "4a1fefe5",
   "metadata": {},
   "outputs": [],
   "source": [
    "import os\n",
    "path = r\"C:\\Users\\Asus\\Desktop\\tahlil dade\\classes\"\n",
    "for n in os.listdir(path):\n",
    "    for s in os.listdir(os.path.join(path,n)):\n",
    "\n",
    "        if s.endswith(\".txt\"):\n",
    "          with open(os.path.join(path,n,s),\"r\") as f :\n",
    "                line=(f.read())\n",
    "                with open(r\"alll.txt\",\"a\") as h:\n",
    "                    h.write(line)"
   ]
  },
  {
   "cell_type": "code",
   "execution_count": null,
   "id": "3ad48e61",
   "metadata": {},
   "outputs": [],
   "source": [
    "os.path.isfile()"
   ]
  },
  {
   "cell_type": "code",
   "execution_count": 26,
   "id": "410fa1b7",
   "metadata": {},
   "outputs": [
    {
     "data": {
      "text/plain": [
       "[]"
      ]
     },
     "execution_count": 26,
     "metadata": {},
     "output_type": "execute_result"
    }
   ],
   "source": [
    "import glob\n",
    "glob.glob(\"**\\*.{txt,py}\", recursive=True,root_dir=r\"C:\\Users\\Asus\\Desktop\\tahlil dade\\classes\")"
   ]
  },
  {
   "cell_type": "markdown",
   "id": "c5a3af08",
   "metadata": {},
   "source": [
    "every charecher has a special num dedicated to that letter "
   ]
  },
  {
   "cell_type": "code",
   "execution_count": 28,
   "id": "e9378090",
   "metadata": {},
   "outputs": [
    {
     "data": {
      "text/plain": [
       "97"
      ]
     },
     "execution_count": 28,
     "metadata": {},
     "output_type": "execute_result"
    }
   ],
   "source": [
    "ord(\"a\")"
   ]
  },
  {
   "cell_type": "code",
   "execution_count": 29,
   "id": "d4ca007d",
   "metadata": {},
   "outputs": [
    {
     "data": {
      "text/plain": [
       "65"
      ]
     },
     "execution_count": 29,
     "metadata": {},
     "output_type": "execute_result"
    }
   ],
   "source": [
    "ord(\"A\")"
   ]
  },
  {
   "cell_type": "markdown",
   "id": "fa0208fd",
   "metadata": {},
   "source": [
    "cap leeters ord is lower can the normal one . soo in sorting cap letters comes before the normal one"
   ]
  },
  {
   "cell_type": "code",
   "execution_count": 30,
   "id": "32421680",
   "metadata": {},
   "outputs": [
    {
     "data": {
      "text/plain": [
       "['X', 'a', 'b', 'd', 'h']"
      ]
     },
     "execution_count": 30,
     "metadata": {},
     "output_type": "execute_result"
    }
   ],
   "source": [
    "sorted(\"dhabX\")"
   ]
  },
  {
   "cell_type": "code",
   "execution_count": 38,
   "id": "f8ba26a7",
   "metadata": {},
   "outputs": [
    {
     "data": {
      "text/plain": [
       "128517"
      ]
     },
     "execution_count": 38,
     "metadata": {},
     "output_type": "execute_result"
    }
   ],
   "source": [
    "ord(\"😅\")"
   ]
  },
  {
   "cell_type": "markdown",
   "id": "108173d0",
   "metadata": {},
   "source": [
    "in oppening files we can say what kind of encoding it should use"
   ]
  },
  {
   "cell_type": "code",
   "execution_count": 39,
   "id": "eac87f0d",
   "metadata": {},
   "outputs": [],
   "source": [
    "with open(r\"sample12.txt\",\"a\",encoding=\"utf8\") as f:\n",
    "    pass"
   ]
  }
 ],
 "metadata": {
  "kernelspec": {
   "display_name": "Python 3",
   "language": "python",
   "name": "python3"
  },
  "language_info": {
   "codemirror_mode": {
    "name": "ipython",
    "version": 3
   },
   "file_extension": ".py",
   "mimetype": "text/x-python",
   "name": "python",
   "nbconvert_exporter": "python",
   "pygments_lexer": "ipython3",
   "version": "3.10.7"
  }
 },
 "nbformat": 4,
 "nbformat_minor": 5
}
