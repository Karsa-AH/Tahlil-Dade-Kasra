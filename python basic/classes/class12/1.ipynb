{
 "cells": [
  {
   "cell_type": "code",
   "execution_count": 102,
   "id": "850dfa25",
   "metadata": {},
   "outputs": [],
   "source": [
    "class Ball:\n",
    "    def __init__(self, x, y):\n",
    "        self.move(x,y)\n",
    "    \n",
    "    def move(self, x, y):\n",
    "        self.x = x\n",
    "        self.y = y\n",
    "    \n",
    "    def reset(self):\n",
    "        self.move(0,0)\n",
    "    \n",
    "    def distance(self , other):\n",
    "        return  round((((self.x - other.x)**2 ) + (self.y - other.y)**2)**0.5,2)"
   ]
  },
  {
   "cell_type": "code",
   "execution_count": 103,
   "id": "1a2c4ff1",
   "metadata": {},
   "outputs": [
    {
     "data": {
      "text/plain": [
       "1.41"
      ]
     },
     "execution_count": 103,
     "metadata": {},
     "output_type": "execute_result"
    }
   ],
   "source": [
    "b=Ball(2,3)\n",
    "c=Ball(3,4)\n",
    "b.distance(c)"
   ]
  },
  {
   "cell_type": "code",
   "execution_count": null,
   "id": "322233fe",
   "metadata": {},
   "outputs": [],
   "source": [
    "class Ball:\n",
    "    def __init__(self, x, y):\n",
    "        self.move(x,y)\n",
    "    \n",
    "    def move(self, x, y):\n",
    "        self.x = x\n",
    "        self.y = y\n",
    "    \n",
    "    def reset(self):\n",
    "        self.move(0,0)\n",
    "    \n",
    "    def distance(self , other):\n",
    "        return  round((((self.x - other.x)**2 ) + (self.y - other.y)**2)**0.5,2)    \n",
    "    def collaps(self , other):\n",
    "        if(self.distance(other)<0.2):\n",
    "            print(\"cpllaps!\")\n",
    "        else:\n",
    "            print(\"no!\")    "
   ]
  },
  {
   "cell_type": "code",
   "execution_count": 117,
   "id": "51b21c51",
   "metadata": {},
   "outputs": [
    {
     "name": "stdout",
     "output_type": "stream",
     "text": [
      "cpllaps!\n"
     ]
    },
    {
     "data": {
      "text/plain": [
       "0.1"
      ]
     },
     "execution_count": 117,
     "metadata": {},
     "output_type": "execute_result"
    }
   ],
   "source": [
    "a=Ball(2,3)\n",
    "b=Ball(2,3.1)\n",
    "b.collaps(a) \n",
    "b.distance(a)"
   ]
  },
  {
   "cell_type": "code",
   "execution_count": 61,
   "id": "cc8b5186",
   "metadata": {},
   "outputs": [],
   "source": [
    "class contact:\n",
    "    def __init__(self,name,lastname,num,email):\n",
    "        self.name=name\n",
    "        self.lastname=lastname\n",
    "        self.num=num\n",
    "        self.email=email\n",
    "\n",
    "    def save(self,address):\n",
    "        with open(address,\"w\") as f:\n",
    "            f.write(\"name : \")\n",
    "            f.write(self.name)\n",
    "            f.write(\"\\nlastname : \")\n",
    "            f.write(self.lastname)\n",
    "            f.write(\"\\nnum : \")\n",
    "            f.write(self.num)\n",
    "            f.write(\"\\nemail : \")\n",
    "            f.write(self.email)\n",
    "                \n",
    "    def edit(self,name,lastname,num,email):\n",
    "        self.name=name\n",
    "        self.lastname=lastname\n",
    "        self.num=num\n",
    "        self.email=email\n",
    "        \n",
    "\n",
    "\n",
    "    def call(self):\n",
    "        print(f\"calling {self.num}\")\n",
    "\n",
    "\n",
    "    def Email(self,mes):\n",
    "        print(f\"sending email to {self.email} , the meassage : {mes}\")\n",
    "\n"
   ]
  },
  {
   "cell_type": "code",
   "execution_count": 62,
   "id": "4abd3f6c",
   "metadata": {},
   "outputs": [],
   "source": [
    "a=contact(\"kasea\",\"mmdi\",\"0911111111\",\"mmd.sample@gmail.com\")"
   ]
  },
  {
   "cell_type": "code",
   "execution_count": 29,
   "id": "39279164",
   "metadata": {},
   "outputs": [],
   "source": [
    "a.save(\"salam.txt\")"
   ]
  },
  {
   "cell_type": "code",
   "execution_count": 30,
   "id": "4a2780ae",
   "metadata": {},
   "outputs": [],
   "source": [
    "a.edit(\"mmd\",\"mmmds\",\"0912\",\"@gmail\")"
   ]
  },
  {
   "cell_type": "code",
   "execution_count": 64,
   "id": "c4913696",
   "metadata": {},
   "outputs": [
    {
     "name": "stdout",
     "output_type": "stream",
     "text": [
      "sending email to mmd.sample@gmail.com , the meassage : salam\n"
     ]
    }
   ],
   "source": [
    "a.Email(\"salam\")"
   ]
  },
  {
   "cell_type": "code",
   "execution_count": 32,
   "id": "540a12a4",
   "metadata": {},
   "outputs": [
    {
     "name": "stdout",
     "output_type": "stream",
     "text": [
      "calling 0912\n"
     ]
    }
   ],
   "source": [
    "a.call()"
   ]
  },
  {
   "cell_type": "markdown",
   "id": "ad74b2f4",
   "metadata": {},
   "source": [
    "how to find how many class we created?"
   ]
  },
  {
   "cell_type": "code",
   "execution_count": 57,
   "id": "68e23521",
   "metadata": {},
   "outputs": [],
   "source": [
    "class Ball:\n",
    "    BALL_COUNT=0\n",
    "    def __init__(self, x, y):\n",
    "        self.move(x,y)\n",
    "        Ball.BALL_COUNT += 1\n",
    "    def move(self, x, y):\n",
    "        self.x = x\n",
    "        self.y = y\n",
    "    \n",
    "    def reset(self):\n",
    "        self.move(0,0)\n",
    "    \n",
    "    def distance(self , other):\n",
    "        return  round((((self.x - other.x)**2 ) + (self.y - other.y)**2)**0.5,2)"
   ]
  },
  {
   "cell_type": "code",
   "execution_count": 58,
   "id": "e49c00a3",
   "metadata": {},
   "outputs": [],
   "source": [
    "b1=Ball(0,1)\n",
    "b2=Ball(1,1)\n",
    "b3=Ball(3,1)\n",
    "b4=Ball(3,1)\n"
   ]
  },
  {
   "cell_type": "code",
   "execution_count": 59,
   "id": "6575f022",
   "metadata": {},
   "outputs": [
    {
     "data": {
      "text/plain": [
       "4"
      ]
     },
     "execution_count": 59,
     "metadata": {},
     "output_type": "execute_result"
    }
   ],
   "source": [
    "b3.BALL_COUNT"
   ]
  },
  {
   "cell_type": "code",
   "execution_count": null,
   "id": "b005d88a",
   "metadata": {},
   "outputs": [],
   "source": [
    "class contact:\n",
    "\n",
    "    def __init__(self,name,lastname,num,email):\n",
    "        self.name=name\n",
    "        self.lastname=lastname\n",
    "        self.num=num\n",
    "        self.email=email\n",
    "\n",
    "    def save(self,address):\n",
    "        with open(address,\"w\") as f:\n",
    "            f.write(\"name : \")\n",
    "            f.write(self.name)\n",
    "            f.write(\"\\nlastname : \")\n",
    "            f.write(self.lastname)\n",
    "            f.write(\"\\nnum : \")\n",
    "            f.write(self.num)\n",
    "            f.write(\"\\nemail : \")\n",
    "            f.write(self.email)\n",
    "                \n",
    "    def edit(self,name,lastname,num,email):\n",
    "        self.name=name\n",
    "        self.lastname=lastname\n",
    "        self.num=num\n",
    "        self.email=email\n",
    "        \n",
    "    def Email(self,mes):\n",
    "        print(f\"sending email to {self.email} , the meassage : {mes}\")\n",
    "\n",
    "    def __repr__(self):\n",
    "        return f\"{self.__class__.__name__} : {self.name}\"\n",
    "\n",
    "\n",
    "\n",
    "\n",
    "class customer(contact):\n",
    "    def send(self,adress):\n",
    "        print(f\"sending the package to {adress}\")\n",
    "\n",
    "\n",
    "class friend(contact):\n",
    "\n",
    "    \n",
    "\n",
    "    def call(self):\n",
    "        print(f\"calling {self.name} , number : {self.num}\")\n"
   ]
  },
  {
   "cell_type": "code",
   "execution_count": 26,
   "id": "38ce8092",
   "metadata": {},
   "outputs": [],
   "source": [
    "cust1=customer(\"Kasra\",\"mmdi\",\"0912\",\"@gmail\")"
   ]
  },
  {
   "cell_type": "code",
   "execution_count": 27,
   "id": "47f8f433",
   "metadata": {},
   "outputs": [
    {
     "data": {
      "text/plain": [
       "customer : Kasra"
      ]
     },
     "execution_count": 27,
     "metadata": {},
     "output_type": "execute_result"
    }
   ],
   "source": [
    "cust1"
   ]
  },
  {
   "cell_type": "code",
   "execution_count": 28,
   "id": "dc1c2932",
   "metadata": {},
   "outputs": [],
   "source": [
    "cust1.save(r\"salam.txt\")"
   ]
  },
  {
   "cell_type": "code",
   "execution_count": 29,
   "id": "66cf164e",
   "metadata": {},
   "outputs": [
    {
     "name": "stdout",
     "output_type": "stream",
     "text": [
      "sending the package to aliabad\n"
     ]
    }
   ],
   "source": [
    "cust1.send(\"aliabad\")"
   ]
  },
  {
   "cell_type": "code",
   "execution_count": 30,
   "id": "2142fd01",
   "metadata": {},
   "outputs": [],
   "source": [
    "fri1=friend(\"mmd\",\"mmdi\", \"0913\",\"sample@gmai;.com\")"
   ]
  },
  {
   "cell_type": "code",
   "execution_count": 31,
   "id": "55c4bafb",
   "metadata": {},
   "outputs": [
    {
     "name": "stdout",
     "output_type": "stream",
     "text": [
      "calling mmd , number : 0913\n"
     ]
    }
   ],
   "source": [
    "fri1.call()"
   ]
  },
  {
   "cell_type": "markdown",
   "id": "e7b5174c",
   "metadata": {},
   "source": [
    "if the our son class have a init , it wont go and cheack the fathers init . also if there is a save def in son class , it wont go for fathers save . "
   ]
  },
  {
   "cell_type": "code",
   "execution_count": null,
   "id": "4e4f4ed3",
   "metadata": {},
   "outputs": [],
   "source": [
    "class friend(contact):\n",
    "    def __init__(self, name, lastname, num, email,phonebrand):\n",
    "        super().__init__(name, lastname, num, email)    \n",
    "        # this will create variables like the father\n",
    "        self.phonebrand=phonebrand\n",
    "\n",
    "    def call(self):\n",
    "        print(f\"calling {self.name} , number : {self.num} with {self.phonebrand}\")\n"
   ]
  },
  {
   "cell_type": "code",
   "execution_count": 33,
   "id": "187278ff",
   "metadata": {},
   "outputs": [],
   "source": [
    "fri1=friend(\"mmd\",\"mmdi\", \"0913\",\"sample@gmai;.com\",\"Pixle\")"
   ]
  },
  {
   "cell_type": "code",
   "execution_count": 34,
   "id": "fb8db976",
   "metadata": {},
   "outputs": [
    {
     "name": "stdout",
     "output_type": "stream",
     "text": [
      "calling mmd , number : 0913 with Pixle\n"
     ]
    }
   ],
   "source": [
    "fri1.call()"
   ]
  },
  {
   "cell_type": "code",
   "execution_count": null,
   "id": "32ac52b4",
   "metadata": {},
   "outputs": [],
   "source": []
  },
  {
   "cell_type": "code",
   "execution_count": 35,
   "id": "1109094c",
   "metadata": {},
   "outputs": [],
   "source": [
    "class friend(contact):\n",
    "    def __init__(self, name, lastname, num, email,phonebrand):\n",
    "        super().__init__(name, lastname, num, email)    \n",
    "        # this will create variables like the father\n",
    "        self.phonebrand=phonebrand\n",
    "\n",
    "    def call(self):\n",
    "        print(f\"calling {self.name} , number : {self.num} with {self.phonebrand}\")\n",
    "\n",
    "    def save(self,address):\n",
    "        with open(address,\"w\") as f:\n",
    "            f.write(\"name : \")\n",
    "            f.write(self.name)\n",
    "            f.write(\"\\nlastname : \")\n",
    "            f.write(self.lastname)\n",
    "            f.write(\"\\nnum : \")\n",
    "            f.write(self.num)\n",
    "            f.write(\"\\nemail : \")\n",
    "            f.write(self.email)\n",
    "            f.write(\"\\nphone Brand : \")\n",
    "            f.write(self.phonebrand)"
   ]
  },
  {
   "cell_type": "code",
   "execution_count": 36,
   "id": "0439a88f",
   "metadata": {},
   "outputs": [],
   "source": [
    "fri1=friend(\"mmd\",\"mmdi\", \"0913\",\"sample@gmai;.com\",\"Pixle\")"
   ]
  },
  {
   "cell_type": "code",
   "execution_count": 37,
   "id": "4c90d1a6",
   "metadata": {},
   "outputs": [
    {
     "name": "stdout",
     "output_type": "stream",
     "text": [
      "calling mmd , number : 0913 with Pixle\n"
     ]
    }
   ],
   "source": [
    "fri1.call()"
   ]
  },
  {
   "cell_type": "code",
   "execution_count": 39,
   "id": "7edf2433",
   "metadata": {},
   "outputs": [],
   "source": [
    "fri1.save(r\"salam.txt\")"
   ]
  },
  {
   "cell_type": "code",
   "execution_count": null,
   "id": "d4202633",
   "metadata": {},
   "outputs": [],
   "source": []
  }
 ],
 "metadata": {
  "kernelspec": {
   "display_name": "Python 3",
   "language": "python",
   "name": "python3"
  },
  "language_info": {
   "codemirror_mode": {
    "name": "ipython",
    "version": 3
   },
   "file_extension": ".py",
   "mimetype": "text/x-python",
   "name": "python",
   "nbconvert_exporter": "python",
   "pygments_lexer": "ipython3",
   "version": "3.10.7"
  }
 },
 "nbformat": 4,
 "nbformat_minor": 5
}
