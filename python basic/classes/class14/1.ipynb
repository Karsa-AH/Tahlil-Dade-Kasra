{
 "cells": [
  {
   "cell_type": "markdown",
   "id": "9c0ef708",
   "metadata": {},
   "source": [
    "### how to create a venv"
   ]
  },
  {
   "cell_type": "markdown",
   "id": "e6b8b6a8",
   "metadata": {},
   "source": [
    "1= open cmd in your directory"
   ]
  },
  {
   "cell_type": "markdown",
   "id": "6ab40013",
   "metadata": {},
   "source": [
    "write : \"py -m venv venv [name]\""
   ]
  },
  {
   "cell_type": "markdown",
   "id": "04e374cc",
   "metadata": {},
   "source": [
    "then : \"[name]\\Scripts\\activate\""
   ]
  },
  {
   "cell_type": "markdown",
   "id": "459962e3",
   "metadata": {},
   "source": [
    "in VS code : \"click select kernel and then select your venv\""
   ]
  }
 ],
 "metadata": {
  "kernelspec": {
   "display_name": "Python 3",
   "language": "python",
   "name": "python3"
  },
  "language_info": {
   "name": "python",
   "version": "3.13.0"
  }
 },
 "nbformat": 4,
 "nbformat_minor": 5
}
