{
 "cells": [
  {
   "cell_type": "markdown",
   "id": "ccad26be",
   "metadata": {},
   "source": [
    "you should create table in sqllite like this:"
   ]
  },
  {
   "cell_type": "code",
   "execution_count": 12,
   "id": "ad86a996",
   "metadata": {},
   "outputs": [],
   "source": [
    "import sqlite3\n",
    "conn = sqlite3.connect(\"resturant.db\")\n",
    "\n",
    "create=\"\"\"\n",
    "CREATE TABLE IF NOT EXISTS customer(\n",
    "c_ID int PRIMARY KEY UNIQUE,\n",
    "name,\n",
    "phone int,\n",
    "address)\n",
    "\"\"\"\n",
    "\n",
    "cursor=conn.cursor()\n",
    "cursor.execute(create)\n",
    "conn.close()"
   ]
  },
  {
   "cell_type": "code",
   "execution_count": 1,
   "id": "159402be",
   "metadata": {},
   "outputs": [],
   "source": [
    "import sqlite3\n",
    "conn = sqlite3.connect(\"resturant.db\")\n",
    "cursor = conn.cursor()\n",
    "\n",
    "# insert_query = \"INSERT INTO customer (c_id, name, phone, address) VALUES (?, ?, ?, ?)\"\n",
    "# data = (1, 'Kasra', 1234567890, 'Tehran, Iran')\n",
    "# cursor.execute(insert_query, data)\n",
    " \n",
    "# or:  \n",
    "\n",
    "insert_query = \"INSERT INTO customer (c_id, name, phone, address) VALUES (3, 'ali', 1234567890, 'Tehran, Iran')\"\n",
    "\n",
    "cursor.execute(insert_query)\n",
    "conn.commit()\n",
    "conn.close()\n"
   ]
  },
  {
   "cell_type": "code",
   "execution_count": null,
   "id": "614e7da2",
   "metadata": {},
   "outputs": [],
   "source": [
    "conn = sqlite3.connect(\"resturant.db\")\n",
    "cursor=conn.cursor()\n",
    "\n",
    "s_s=\"SELECT * FROM customer\"\n",
    "    a=cursor.execute(s_s)\n",
    "# conn.close()"
   ]
  },
  {
   "cell_type": "code",
   "execution_count": 23,
   "id": "5e363de4",
   "metadata": {},
   "outputs": [
    {
     "data": {
      "text/plain": [
       "<sqlite3.Cursor at 0x25ae340acc0>"
      ]
     },
     "execution_count": 23,
     "metadata": {},
     "output_type": "execute_result"
    }
   ],
   "source": [
    "a"
   ]
  },
  {
   "cell_type": "code",
   "execution_count": 24,
   "id": "26604cfd",
   "metadata": {},
   "outputs": [
    {
     "data": {
      "text/plain": [
       "[(1, 'Kasra', 1234567890, 'Tehran, Iran'),\n",
       " (2, 'Kasra', 1234567890, 'Tehran, Iran')]"
      ]
     },
     "execution_count": 24,
     "metadata": {},
     "output_type": "execute_result"
    }
   ],
   "source": [
    "a.fetchall()"
   ]
  },
  {
   "cell_type": "code",
   "execution_count": 25,
   "id": "2aeb7e91",
   "metadata": {},
   "outputs": [],
   "source": [
    "conn = sqlite3.connect(\"resturant.db\")\n",
    "cursor=conn.cursor()\n",
    "\n",
    "s_s=\"SELECT name,c_id FROM customer\"\n",
    "a=cursor.execute(s_s)\n",
    "# conn.close()"
   ]
  },
  {
   "cell_type": "code",
   "execution_count": 26,
   "id": "965063b1",
   "metadata": {},
   "outputs": [
    {
     "data": {
      "text/plain": [
       "<sqlite3.Cursor at 0x25ae340ab40>"
      ]
     },
     "execution_count": 26,
     "metadata": {},
     "output_type": "execute_result"
    }
   ],
   "source": [
    "a"
   ]
  },
  {
   "cell_type": "code",
   "execution_count": 27,
   "id": "e70e4f54",
   "metadata": {},
   "outputs": [
    {
     "data": {
      "text/plain": [
       "[('Kasra', 1), ('Kasra', 2)]"
      ]
     },
     "execution_count": 27,
     "metadata": {},
     "output_type": "execute_result"
    }
   ],
   "source": [
    "a.fetchall()"
   ]
  },
  {
   "cell_type": "code",
   "execution_count": 4,
   "id": "dcc8940b",
   "metadata": {},
   "outputs": [],
   "source": [
    "conn = sqlite3.connect(\"resturant.db\")\n",
    "cursor=conn.cursor()\n",
    "\n",
    "s_s=\"SELECT name,c_id FROM customer WHERE name != 'Kasra'\"\n",
    "a=cursor.execute(s_s)\n",
    "# conn.close()"
   ]
  },
  {
   "cell_type": "code",
   "execution_count": 5,
   "id": "60c156ac",
   "metadata": {},
   "outputs": [
    {
     "data": {
      "text/plain": [
       "[('ali', 3)]"
      ]
     },
     "execution_count": 5,
     "metadata": {},
     "output_type": "execute_result"
    }
   ],
   "source": [
    "a.fetchall()"
   ]
  },
  {
   "cell_type": "code",
   "execution_count": 8,
   "id": "3b933ea1",
   "metadata": {},
   "outputs": [],
   "source": [
    "conn = sqlite3.connect(\"resturant.db\")\n",
    "cursor=conn.cursor()\n",
    "\n",
    "update=\"UPDATE customer SET name = 'hossein' WHERE c_id=2 \"\n",
    "\n",
    "cursor.execute(update)\n",
    "conn.commit()\n",
    "conn.close()"
   ]
  },
  {
   "cell_type": "code",
   "execution_count": 11,
   "id": "4cff05fa",
   "metadata": {},
   "outputs": [],
   "source": [
    "conn = sqlite3.connect(\"resturant.db\")\n",
    "cursor=conn.cursor()\n",
    "\n",
    "delete=\"DELETE FROM customer WHERE c_id=2 \"\n",
    "\n",
    "cursor.execute(delete)\n",
    "conn.commit()\n",
    "conn.close()"
   ]
  }
 ],
 "metadata": {
  "kernelspec": {
   "display_name": ".venv",
   "language": "python",
   "name": "python3"
  },
  "language_info": {
   "codemirror_mode": {
    "name": "ipython",
    "version": 3
   },
   "file_extension": ".py",
   "mimetype": "text/x-python",
   "name": "python",
   "nbconvert_exporter": "python",
   "pygments_lexer": "ipython3",
   "version": "3.10.7"
  }
 },
 "nbformat": 4,
 "nbformat_minor": 5
}
