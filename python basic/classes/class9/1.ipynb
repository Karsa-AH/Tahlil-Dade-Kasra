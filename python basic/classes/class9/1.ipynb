{
 "cells": [
  {
   "cell_type": "code",
   "execution_count": 1,
   "id": "d3468846",
   "metadata": {},
   "outputs": [
    {
     "data": {
      "text/plain": [
       "1"
      ]
     },
     "execution_count": 1,
     "metadata": {},
     "output_type": "execute_result"
    }
   ],
   "source": [
    "def summ(a,b):\n",
    "    return a+b\n",
    "summ(-1,2)"
   ]
  },
  {
   "cell_type": "markdown",
   "id": "3ee96a4d",
   "metadata": {},
   "source": [
    "### defs with infinite amout of inputs:"
   ]
  },
  {
   "cell_type": "code",
   "execution_count": 2,
   "id": "37ec6ad7",
   "metadata": {},
   "outputs": [],
   "source": [
    "def summ(*arg):\n",
    "    return sum(arg)    \n"
   ]
  },
  {
   "cell_type": "code",
   "execution_count": 3,
   "id": "4a63994b",
   "metadata": {},
   "outputs": [
    {
     "data": {
      "text/plain": [
       "6"
      ]
     },
     "execution_count": 3,
     "metadata": {},
     "output_type": "execute_result"
    }
   ],
   "source": [
    "summ(1,2,3)"
   ]
  },
  {
   "cell_type": "markdown",
   "id": "ac1a0e9a",
   "metadata": {},
   "source": [
    "### **kwargs"
   ]
  },
  {
   "cell_type": "code",
   "execution_count": 34,
   "id": "55959bca",
   "metadata": {},
   "outputs": [],
   "source": [
    "def sam(*ar,**k):\n",
    "    print(k)\n",
    "    print(ar)"
   ]
  },
  {
   "cell_type": "code",
   "execution_count": 35,
   "id": "caf78510",
   "metadata": {},
   "outputs": [
    {
     "name": "stdout",
     "output_type": "stream",
     "text": [
      "{'a': 4, 'b': 5, 'c': 6}\n",
      "(1, 2, 3)\n"
     ]
    }
   ],
   "source": [
    "sam(1,2,3,a=4,b=5,c=6)"
   ]
  },
  {
   "cell_type": "code",
   "execution_count": 23,
   "id": "d1a2398f",
   "metadata": {},
   "outputs": [],
   "source": [
    "def sam(*ar,**k):\n",
    "    return sum(ar)+ sum(k.values())\n",
    "    "
   ]
  },
  {
   "cell_type": "code",
   "execution_count": 24,
   "id": "a4792cc2",
   "metadata": {},
   "outputs": [
    {
     "data": {
      "text/plain": [
       "13"
      ]
     },
     "execution_count": 24,
     "metadata": {},
     "output_type": "execute_result"
    }
   ],
   "source": [
    "sam(1,2,3,4,a=1,b=2)"
   ]
  },
  {
   "cell_type": "markdown",
   "id": "a376cedb",
   "metadata": {},
   "source": [
    "### recurvesic defs"
   ]
  },
  {
   "cell_type": "code",
   "execution_count": 36,
   "id": "da2556e1",
   "metadata": {},
   "outputs": [],
   "source": [
    "def rd(n):\n",
    "    if(n<=0):\n",
    "        return 0\n",
    "    return n + rd(n-1)\n"
   ]
  },
  {
   "cell_type": "code",
   "execution_count": null,
   "id": "2e061be9",
   "metadata": {},
   "outputs": [
    {
     "data": {
      "text/plain": [
       "10"
      ]
     },
     "execution_count": 43,
     "metadata": {},
     "output_type": "execute_result"
    }
   ],
   "source": [
    "rd(4)\n",
    "# = 1+2+3+4"
   ]
  },
  {
   "cell_type": "markdown",
   "id": "4fd7a1a4",
   "metadata": {},
   "source": [
    "### file handelling"
   ]
  },
  {
   "cell_type": "code",
   "execution_count": 11,
   "id": "8b068de9",
   "metadata": {},
   "outputs": [
    {
     "data": {
      "text/plain": [
       "'this is a test tex . so i can practice reading / writing /creating giles in python'"
      ]
     },
     "execution_count": 11,
     "metadata": {},
     "output_type": "execute_result"
    }
   ],
   "source": [
    "f = open(r\"C:\\Users\\Asus\\Desktop\\tahlil dade\\classes\\class9\\test.txt\")\n",
    "f.read()"
   ]
  },
  {
   "cell_type": "code",
   "execution_count": 15,
   "id": "23058636",
   "metadata": {},
   "outputs": [],
   "source": [
    "f.close()"
   ]
  },
  {
   "cell_type": "code",
   "execution_count": 22,
   "id": "d46b5e00",
   "metadata": {},
   "outputs": [],
   "source": [
    "c= open(r\"C:\\Users\\Asus\\Desktop\\tahlil dade\\classes\\class9\\tree.py\")"
   ]
  },
  {
   "cell_type": "code",
   "execution_count": 20,
   "id": "64b3b1d9",
   "metadata": {},
   "outputs": [],
   "source": [
    "c=c.read()"
   ]
  },
  {
   "cell_type": "code",
   "execution_count": 14,
   "id": "327bbe6a",
   "metadata": {},
   "outputs": [
    {
     "name": "stdout",
     "output_type": "stream",
     "text": [
      "import turtle\n",
      "import math\n",
      "t = turtle.Turtle()\n",
      "t.shape(\"turtle\")\n",
      "t.lt(90)\n",
      "t.speed(100000)\n",
      "lv = 11\n",
      "l  = 100\n",
      "s  = 17\n",
      "\n",
      "t.penup()\n",
      "t.bk(l)\n",
      "t.pendown()         \n",
      "t.fd(l)\n",
      "\n",
      "def draw_tree(l, level):\n",
      "    l = 3.0/4.0*l\n",
      "    t.lt(s)\n",
      "    t.fd(l)\n",
      "    level +=1\n",
      "    if level<lv:\n",
      "        draw_tree(l, level)\n",
      "\n",
      "    t.bk(l)\n",
      "    t.rt(2*s)\n",
      "    t.fd(l)\n",
      "    if level<=lv:\n",
      "        draw_tree(l, level)\n",
      "    t.bk(l)\n",
      "    t.lt(s)\n",
      "    level -=1\n",
      "\n",
      "t.speed(100)        \n",
      "draw_tree(120,-5)\n",
      "\n"
     ]
    }
   ],
   "source": [
    "print(c)"
   ]
  },
  {
   "cell_type": "code",
   "execution_count": 23,
   "id": "d8314983",
   "metadata": {},
   "outputs": [],
   "source": [
    "c.close()"
   ]
  },
  {
   "cell_type": "code",
   "execution_count": 57,
   "id": "38f8f7e2",
   "metadata": {},
   "outputs": [],
   "source": [
    "f = open(r\"C:\\Users\\Asus\\Desktop\\tahlil dade\\classes\\class9\\tree.py\")\n"
   ]
  },
  {
   "cell_type": "code",
   "execution_count": 58,
   "id": "23771246",
   "metadata": {},
   "outputs": [],
   "source": [
    "f=f.readlines()"
   ]
  },
  {
   "cell_type": "markdown",
   "id": "67e9ccd5",
   "metadata": {},
   "source": [
    "### read lines will add an obj to list yb every line . for example a two line text readlines will have 2 index . also for showing them print print them in one line and pprint lib will put an enter for each element"
   ]
  },
  {
   "cell_type": "code",
   "execution_count": 35,
   "id": "4c85c1f8",
   "metadata": {},
   "outputs": [
    {
     "name": "stdout",
     "output_type": "stream",
     "text": [
      "['import turtle\\n',\n",
      " 'import math\\n',\n",
      " 't = turtle.Turtle()\\n',\n",
      " 't.shape(\"turtle\")\\n',\n",
      " 't.lt(90)\\n',\n",
      " 't.speed(100000)\\n',\n",
      " 'lv = 11\\n',\n",
      " 'l  = 100\\n',\n",
      " 's  = 17\\n',\n",
      " '\\n',\n",
      " 't.penup()\\n',\n",
      " 't.bk(l)\\n',\n",
      " 't.pendown()         \\n',\n",
      " 't.fd(l)\\n',\n",
      " '\\n',\n",
      " 'def draw_tree(l, level):\\n',\n",
      " '    l = 3.0/4.0*l\\n',\n",
      " '    t.lt(s)\\n',\n",
      " '    t.fd(l)\\n',\n",
      " '    level +=1\\n',\n",
      " '    if level<lv:\\n',\n",
      " '        draw_tree(l, level)\\n',\n",
      " '\\n',\n",
      " '    t.bk(l)\\n',\n",
      " '    t.rt(2*s)\\n',\n",
      " '    t.fd(l)\\n',\n",
      " '    if level<=lv:\\n',\n",
      " '        draw_tree(l, level)\\n',\n",
      " '    t.bk(l)\\n',\n",
      " '    t.lt(s)\\n',\n",
      " '    level -=1\\n',\n",
      " '\\n',\n",
      " 't.speed(100)        \\n',\n",
      " 'draw_tree(120,-5)\\n']\n"
     ]
    }
   ],
   "source": [
    "import pprint\n",
    "pprint.pprint(f)"
   ]
  },
  {
   "cell_type": "code",
   "execution_count": 36,
   "id": "411486b9",
   "metadata": {},
   "outputs": [
    {
     "name": "stdout",
     "output_type": "stream",
     "text": [
      "['import turtle\\n', 'import math\\n', 't = turtle.Turtle()\\n', 't.shape(\"turtle\")\\n', 't.lt(90)\\n', 't.speed(100000)\\n', 'lv = 11\\n', 'l  = 100\\n', 's  = 17\\n', '\\n', 't.penup()\\n', 't.bk(l)\\n', 't.pendown()         \\n', 't.fd(l)\\n', '\\n', 'def draw_tree(l, level):\\n', '    l = 3.0/4.0*l\\n', '    t.lt(s)\\n', '    t.fd(l)\\n', '    level +=1\\n', '    if level<lv:\\n', '        draw_tree(l, level)\\n', '\\n', '    t.bk(l)\\n', '    t.rt(2*s)\\n', '    t.fd(l)\\n', '    if level<=lv:\\n', '        draw_tree(l, level)\\n', '    t.bk(l)\\n', '    t.lt(s)\\n', '    level -=1\\n', '\\n', 't.speed(100)        \\n', 'draw_tree(120,-5)\\n']\n"
     ]
    }
   ],
   "source": [
    "print(f)"
   ]
  },
  {
   "cell_type": "markdown",
   "id": "4ea8d889",
   "metadata": {},
   "source": [
    "### re position the the reading proccess at the first charecter"
   ]
  },
  {
   "cell_type": "code",
   "execution_count": 40,
   "id": "305028d0",
   "metadata": {},
   "outputs": [
    {
     "data": {
      "text/plain": [
       "0"
      ]
     },
     "execution_count": 40,
     "metadata": {},
     "output_type": "execute_result"
    }
   ],
   "source": [
    "f.seek(0)"
   ]
  },
  {
   "cell_type": "markdown",
   "id": "c249ab44",
   "metadata": {},
   "source": [
    "### reads the first 5 element"
   ]
  },
  {
   "cell_type": "code",
   "execution_count": 41,
   "id": "9ccb919b",
   "metadata": {},
   "outputs": [
    {
     "data": {
      "text/plain": [
       "'impor'"
      ]
     },
     "execution_count": 41,
     "metadata": {},
     "output_type": "execute_result"
    }
   ],
   "source": [
    "f.read(5)"
   ]
  },
  {
   "cell_type": "markdown",
   "id": "12c0b484",
   "metadata": {},
   "source": [
    "### read the second 5"
   ]
  },
  {
   "cell_type": "code",
   "execution_count": 48,
   "id": "c062be52",
   "metadata": {},
   "outputs": [
    {
     "data": {
      "text/plain": [
       "' math'"
      ]
     },
     "execution_count": 48,
     "metadata": {},
     "output_type": "execute_result"
    }
   ],
   "source": [
    "f.read(5)"
   ]
  },
  {
   "cell_type": "markdown",
   "id": "708e6c3d",
   "metadata": {},
   "source": [
    "### says how many charescter does f has"
   ]
  },
  {
   "cell_type": "code",
   "execution_count": 55,
   "id": "67f4821d",
   "metadata": {},
   "outputs": [
    {
     "data": {
      "text/plain": [
       "34"
      ]
     },
     "execution_count": 55,
     "metadata": {},
     "output_type": "execute_result"
    }
   ],
   "source": [
    "f.tell()"
   ]
  },
  {
   "cell_type": "markdown",
   "id": "c610b0fa",
   "metadata": {},
   "source": [
    "### read two lines"
   ]
  },
  {
   "cell_type": "code",
   "execution_count": 56,
   "id": "53d48595",
   "metadata": {},
   "outputs": [
    {
     "data": {
      "text/plain": [
       "'rt'"
      ]
     },
     "execution_count": 56,
     "metadata": {},
     "output_type": "execute_result"
    }
   ],
   "source": [
    "f.readline(2)"
   ]
  },
  {
   "cell_type": "markdown",
   "id": "19c38b9b",
   "metadata": {},
   "source": [
    "### we can also use line with read lines like lists"
   ]
  },
  {
   "cell_type": "code",
   "execution_count": 59,
   "id": "0651e5c0",
   "metadata": {},
   "outputs": [
    {
     "name": "stdout",
     "output_type": "stream",
     "text": [
      "import turtle\n",
      "\n",
      "import math\n",
      "\n",
      "t = turtle.Turtle()\n",
      "\n",
      "t.shape(\"turtle\")\n",
      "\n",
      "t.lt(90)\n",
      "\n",
      "t.speed(100000)\n",
      "\n",
      "lv = 11\n",
      "\n",
      "l  = 100\n",
      "\n",
      "s  = 17\n",
      "\n",
      "\n",
      "\n",
      "t.penup()\n",
      "\n",
      "t.bk(l)\n",
      "\n",
      "t.pendown()         \n",
      "\n",
      "t.fd(l)\n",
      "\n",
      "\n",
      "\n",
      "def draw_tree(l, level):\n",
      "\n",
      "    l = 3.0/4.0*l\n",
      "\n",
      "    t.lt(s)\n",
      "\n",
      "    t.fd(l)\n",
      "\n",
      "    level +=1\n",
      "\n",
      "    if level<lv:\n",
      "\n",
      "        draw_tree(l, level)\n",
      "\n",
      "\n",
      "\n",
      "    t.bk(l)\n",
      "\n",
      "    t.rt(2*s)\n",
      "\n",
      "    t.fd(l)\n",
      "\n",
      "    if level<=lv:\n",
      "\n",
      "        draw_tree(l, level)\n",
      "\n",
      "    t.bk(l)\n",
      "\n",
      "    t.lt(s)\n",
      "\n",
      "    level -=1\n",
      "\n",
      "\n",
      "\n",
      "t.speed(100)        \n",
      "\n",
      "draw_tree(120,-5)\n",
      "\n"
     ]
    }
   ],
   "source": [
    "for line in f:\n",
    "    print(line)"
   ]
  },
  {
   "cell_type": "code",
   "execution_count": 84,
   "id": "1126e20d",
   "metadata": {},
   "outputs": [],
   "source": [
    "data = open(r\"C:\\Users\\Asus\\Desktop\\tahlil dade\\classes\\class9\\data.txt\")"
   ]
  },
  {
   "cell_type": "code",
   "execution_count": 85,
   "id": "9c09e43e",
   "metadata": {},
   "outputs": [],
   "source": [
    "data = data.read()"
   ]
  },
  {
   "cell_type": "code",
   "execution_count": 86,
   "id": "45669396",
   "metadata": {},
   "outputs": [
    {
     "data": {
      "text/plain": [
       "['name,',\n",
       " 'age,',\n",
       " 'bmi',\n",
       " 'a,',\n",
       " '20,',\n",
       " '25',\n",
       " 'b,',\n",
       " '30,',\n",
       " '14',\n",
       " 'c,',\n",
       " '70,',\n",
       " '34',\n",
       " 'd,',\n",
       " '12,',\n",
       " '21']"
      ]
     },
     "execution_count": 86,
     "metadata": {},
     "output_type": "execute_result"
    }
   ],
   "source": [
    "a=str(data).split()\n",
    "a"
   ]
  },
  {
   "cell_type": "markdown",
   "id": "31bbad13",
   "metadata": {},
   "source": [
    "### task : read the data files"
   ]
  },
  {
   "cell_type": "code",
   "execution_count": 90,
   "id": "0e1b1452",
   "metadata": {},
   "outputs": [],
   "source": [
    "d={}\n",
    "for i in range(0,len(a),3):\n",
    "    d.fromkeys(a[i],a[i])\n"
   ]
  },
  {
   "cell_type": "markdown",
   "id": "ca638e81",
   "metadata": {},
   "source": [
    "### given way:"
   ]
  },
  {
   "cell_type": "code",
   "execution_count": null,
   "id": "ecb574b5",
   "metadata": {},
   "outputs": [],
   "source": []
  }
 ],
 "metadata": {
  "kernelspec": {
   "display_name": "Python 3",
   "language": "python",
   "name": "python3"
  },
  "language_info": {
   "codemirror_mode": {
    "name": "ipython",
    "version": 3
   },
   "file_extension": ".py",
   "mimetype": "text/x-python",
   "name": "python",
   "nbconvert_exporter": "python",
   "pygments_lexer": "ipython3",
   "version": "3.10.7"
  }
 },
 "nbformat": 4,
 "nbformat_minor": 5
}
