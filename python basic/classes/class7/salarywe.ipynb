{
 "cells": [
  {
   "cell_type": "code",
   "execution_count": null,
   "metadata": {},
   "outputs": [
    {
     "name": "stdout",
     "output_type": "stream",
     "text": [
      "18,1,'ms',12500000:  132480000.0\n",
      "5,0,'bc',12500000:  27500000.0\n"
     ]
    }
   ],
   "source": [
    "def salary(exp, job, edu = 'ms', base_slary = 12500000):\n",
    "    salary = base_slary\n",
    "    salary = salary + 0.2 * exp * salary\n",
    "    if job == 1:\n",
    "        salary += 0.2 * salary\n",
    "    match edu:\n",
    "        case \"phd\":\n",
    "            salary += 0.3 * salary\n",
    "        case \"ms\":\n",
    "            salary += 0.2 * salary\n",
    "        case \"bc\":\n",
    "            salary += 0.1 * salary\n",
    "        # case _:\n",
    "        # pass\n",
    "    \"\"\"\n",
    "    if edu == 'php':\n",
    "        salary += .3 * salary\n",
    "    elif edu == 'ms':\n",
    "        salary += .2 * salary'\n",
    "    \"\"\"\n",
    "    return salary\n",
    "\n",
    "                                                            \n",
    "print(\"18,1,'ms',12500000: \", salary(exp = 18, job = 1, base_slary = 20000000, edu = \"ms\"))\n",
    "print(\"5,0,'bc',12500000: \", salary(5, 0, \"bc\"))\n",
    "salary1 =  salary(18, 1, \"ms\")\n"
   ]
  },
  {
   "cell_type": "code",
   "execution_count": null,
   "metadata": {},
   "outputs": [],
   "source": [
    "def tax(salary=salary1,basetax=1000):                           \n",
    "    a=basetax\n",
    "    if(salary>15000000):\n",
    "        return a + (0.1*basetax)\n",
    "tax1=tax()"
   ]
  },
  {
   "cell_type": "code",
   "execution_count": 12,
   "metadata": {},
   "outputs": [],
   "source": [
    "def insu(salary=salary1,base=1000):\n",
    "    a=salary\n",
    "    return a*0.7\n",
    "insu1 = insu()"
   ]
  },
  {
   "cell_type": "code",
   "execution_count": 13,
   "metadata": {},
   "outputs": [],
   "source": [
    "def net_salary(salary=salary1,tax=tax1,insu=insu1):\n",
    "    return salary-(tax+insu)\n",
    "\n"
   ]
  },
  {
   "cell_type": "code",
   "execution_count": 14,
   "metadata": {},
   "outputs": [
    {
     "name": "stdout",
     "output_type": "stream",
     "text": [
      "82800000.0 24838900.0 1100.0 57960000.0\n"
     ]
    }
   ],
   "source": [
    "if __name__ == \"__main__\":\n",
    "    print(salary(18, 1, \"ms\"),net_salary(),tax(),insu())\n",
    "#ths if will execute when we run this file / but if we use it with import it wont execute\n"
   ]
  },
  {
   "cell_type": "code",
   "execution_count": 16,
   "metadata": {},
   "outputs": [
    {
     "name": "stdout",
     "output_type": "stream",
     "text": [
      "__main__\n"
     ]
    }
   ],
   "source": [
    "print(__name__)\n",
    "# this mean we are using original file"
   ]
  },
  {
   "cell_type": "code",
   "execution_count": null,
   "metadata": {},
   "outputs": [],
   "source": [
    "# if we run it from 1.ipynb it will print salary!!!"
   ]
  }
 ],
 "metadata": {
  "kernelspec": {
   "display_name": "Python 3",
   "language": "python",
   "name": "python3"
  },
  "language_info": {
   "codemirror_mode": {
    "name": "ipython",
    "version": 3
   },
   "file_extension": ".py",
   "mimetype": "text/x-python",
   "name": "python",
   "nbconvert_exporter": "python",
   "pygments_lexer": "ipython3",
   "version": "3.10.7"
  }
 },
 "nbformat": 4,
 "nbformat_minor": 2
}
