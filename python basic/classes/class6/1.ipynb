{
 "cells": [
  {
   "cell_type": "code",
   "execution_count": 45,
   "metadata": {},
   "outputs": [
    {
     "data": {
      "text/plain": [
       "([1, 2, 3, 4],\n",
       " ['hi', 'bye', 'right', 'left'],\n",
       " {'hi': 1, 'bye': 2, 'right': 3, 'left': 4})"
      ]
     },
     "execution_count": 45,
     "metadata": {},
     "output_type": "execute_result"
    }
   ],
   "source": [
    "a={1:\"hi\",2:\"bye\",3:\"right\",4:\"left\"}\n",
    "c={}\n",
    "b=list(a.values())\n",
    "x=list(a.keys())\n",
    "for i in range(0,len(b)):\n",
    "    c.setdefault(b[i],x[i])\n",
    "x,b,c\n"
   ]
  },
  {
   "cell_type": "code",
   "execution_count": 47,
   "metadata": {},
   "outputs": [
    {
     "data": {
      "text/plain": [
       "{'hi': 1, 'bye': 2, 'right': 3, 'left': 4}"
      ]
     },
     "execution_count": 47,
     "metadata": {},
     "output_type": "execute_result"
    }
   ],
   "source": [
    "a={1:\"hi\",2:\"bye\",3:\"right\",4:\"left\"}\n",
    "b= dict(zip(a.values(), a.keys()))\n",
    "b"
   ]
  },
  {
   "cell_type": "code",
   "execution_count": 58,
   "metadata": {},
   "outputs": [
    {
     "data": {
      "text/plain": [
       "[(2, 3), (6, 5), (8, 7), (4, 3), (1, 2), (6, 3), (5, 2), (3, 6)]"
      ]
     },
     "execution_count": 58,
     "metadata": {},
     "output_type": "execute_result"
    }
   ],
   "source": [
    "# zip:\n",
    "a=[2,6,8,4,1,6,5,3]\n",
    "b=[3,5,7,3,2,3,2,6]\n",
    "list(zip(a,b))"
   ]
  },
  {
   "cell_type": "code",
   "execution_count": 59,
   "metadata": {},
   "outputs": [],
   "source": [
    "# sets:"
   ]
  },
  {
   "cell_type": "code",
   "execution_count": 89,
   "metadata": {},
   "outputs": [
    {
     "data": {
      "text/plain": [
       "set"
      ]
     },
     "execution_count": 89,
     "metadata": {},
     "output_type": "execute_result"
    }
   ],
   "source": [
    "a={1,2,6,4,8}\n",
    "type(a)"
   ]
  },
  {
   "cell_type": "code",
   "execution_count": 90,
   "metadata": {},
   "outputs": [
    {
     "data": {
      "text/plain": [
       "{4, 5, 6, 7, 8}"
      ]
     },
     "execution_count": 90,
     "metadata": {},
     "output_type": "execute_result"
    }
   ],
   "source": [
    "b={6,7,4,5,4,7,8}\n",
    "b"
   ]
  },
  {
   "cell_type": "code",
   "execution_count": 91,
   "metadata": {},
   "outputs": [
    {
     "data": {
      "text/plain": [
       "{4, 6, 8}"
      ]
     },
     "execution_count": 91,
     "metadata": {},
     "output_type": "execute_result"
    }
   ],
   "source": [
    "a.intersection(b)\n",
    "# eshterak"
   ]
  },
  {
   "cell_type": "code",
   "execution_count": 92,
   "metadata": {},
   "outputs": [
    {
     "data": {
      "text/plain": [
       "{1, 2, 4, 5, 6, 7, 8}"
      ]
     },
     "execution_count": 92,
     "metadata": {},
     "output_type": "execute_result"
    }
   ],
   "source": [
    "a.union(b)"
   ]
  },
  {
   "cell_type": "code",
   "execution_count": 93,
   "metadata": {},
   "outputs": [
    {
     "data": {
      "text/plain": [
       "{1, 2}"
      ]
     },
     "execution_count": 93,
     "metadata": {},
     "output_type": "execute_result"
    }
   ],
   "source": [
    "a-b"
   ]
  },
  {
   "cell_type": "code",
   "execution_count": 94,
   "metadata": {},
   "outputs": [],
   "source": [
    "# tuple"
   ]
  },
  {
   "cell_type": "code",
   "execution_count": 95,
   "metadata": {},
   "outputs": [
    {
     "data": {
      "text/plain": [
       "tuple"
      ]
     },
     "execution_count": 95,
     "metadata": {},
     "output_type": "execute_result"
    }
   ],
   "source": [
    "t=(1,2,6,4,3,9)\n",
    "type(t)"
   ]
  },
  {
   "cell_type": "code",
   "execution_count": 98,
   "metadata": {},
   "outputs": [
    {
     "data": {
      "text/plain": [
       "(1, 2, 6)"
      ]
     },
     "execution_count": 98,
     "metadata": {},
     "output_type": "execute_result"
    }
   ],
   "source": [
    "# it act like lists(it has slicing , indexing and etc.) . but it's unchangeable!!!\n",
    "t[:3]"
   ]
  },
  {
   "cell_type": "code",
   "execution_count": 105,
   "metadata": {},
   "outputs": [
    {
     "name": "stdout",
     "output_type": "stream",
     "text": [
      "0 1\n",
      "1 2\n",
      "2 35\n",
      "3 86\n",
      "4 97\n",
      "5 55\n",
      "6 376\n",
      "7 8645\n",
      "8 3\n"
     ]
    }
   ],
   "source": [
    "# enumbrate(give index and the value)\n",
    "list1=[1,2,35,86,97,55,376,8645,3]\n",
    "for i ,b in enumerate(list):\n",
    "    print(i,b)"
   ]
  },
  {
   "cell_type": "code",
   "execution_count": 113,
   "metadata": {},
   "outputs": [
    {
     "data": {
      "text/plain": [
       "{0: 1, 1: 2, 2: 35, 3: 86, 4: 97, 5: 55, 6: 376, 7: 8645, 8: 3}"
      ]
     },
     "execution_count": 113,
     "metadata": {},
     "output_type": "execute_result"
    }
   ],
   "source": [
    "dict(enumerate(list1))"
   ]
  },
  {
   "cell_type": "code",
   "execution_count": 136,
   "metadata": {},
   "outputs": [
    {
     "data": {
      "text/plain": [
       "({'in': 5,\n",
       "  'a': 14,\n",
       "  'quiet': 1,\n",
       "  'village': 2,\n",
       "  ',': 5,\n",
       "  'long': 1,\n",
       "  'lone': 1,\n",
       "  'lantern': 1,\n",
       "  'glowed': 1,\n",
       "  'every': 1,\n",
       "  'night.': 1,\n",
       "  'One': 1,\n",
       "  'evening,': 1,\n",
       "  'it': 3,\n",
       "  'vanished.': 1,\n",
       "  'The': 1,\n",
       "  'villagers': 1,\n",
       "  'searched,': 1,\n",
       "  'only': 1,\n",
       "  'to': 1,\n",
       "  'find': 1,\n",
       "  'the': 4,\n",
       "  'forest,': 1,\n",
       "  'lighting': 1,\n",
       "  'path': 1,\n",
       "  'for': 2,\n",
       "  'lost': 1,\n",
       "  'child.': 1,\n",
       "  'From': 1,\n",
       "  'then': 1,\n",
       "  'on,': 1,\n",
       "  'was': 1,\n",
       "  'called': 1,\n",
       "  'Guardian': 1,\n",
       "  'Lantern.': 1},\n",
       " 'in a quiet village , long a lone lantern glowed every night. One evening, it vanished. The villagers searched, only to find it in the forest, lighting the path for a lost child. From then on, it was called the Guardian Lantern.')"
      ]
     },
     "execution_count": 136,
     "metadata": {},
     "output_type": "execute_result"
    }
   ],
   "source": [
    "# clip:\n",
    "a= '''in a quiet village , long a lone lantern glowed every night. One evening, it vanished. The villagers searched, only to find it in the forest, lighting the path for a lost child. From then on, it was called the Guardian Lantern.'''\n",
    "b=a.split()\n",
    "c={}\n",
    "for i in b:\n",
    "       c[i]=a.count(i)\n",
    "c ,a   "
   ]
  }
 ],
 "metadata": {
  "kernelspec": {
   "display_name": "Python 3",
   "language": "python",
   "name": "python3"
  },
  "language_info": {
   "codemirror_mode": {
    "name": "ipython",
    "version": 3
   },
   "file_extension": ".py",
   "mimetype": "text/x-python",
   "name": "python",
   "nbconvert_exporter": "python",
   "pygments_lexer": "ipython3",
   "version": "3.10.7"
  }
 },
 "nbformat": 4,
 "nbformat_minor": 2
}
