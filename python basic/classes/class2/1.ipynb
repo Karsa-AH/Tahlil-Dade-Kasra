{
 "cells": [
  {
   "cell_type": "code",
   "execution_count": 2,
   "metadata": {},
   "outputs": [
    {
     "name": "stdout",
     "output_type": "stream",
     "text": [
      "EROR\n"
     ]
    }
   ],
   "source": [
    "a=float(input())\n",
    "if(a>=0 and a<=1):\n",
    "    if(a >= 0.9):\n",
    "        print(\"A\")\n",
    "    elif(a >= 0.8):\n",
    "        print(\"B\")\n",
    "    elif(a >= 0.7):\n",
    "        print(\"C\")\n",
    "    elif(a >= 0.6):\n",
    "        print(\"D\")\n",
    "    elif(a >= 0.5):\n",
    "        print(\"E\")\n",
    "    else:\n",
    "        print(\"F\")      \n",
    "\n",
    "else:\n",
    "    print(\"EROR\")                  "
   ]
  },
  {
   "cell_type": "markdown",
   "metadata": {},
   "source": [
    "note:\n",
    "in format str /t puts a tab before the writing    \n",
    "and /n place an enter before writing   \n",
    "like:print(f\"/ti = {i})"
   ]
  },
  {
   "cell_type": "code",
   "execution_count": null,
   "metadata": {},
   "outputs": [],
   "source": [
    "import datetime\n",
    "import time\n",
    "while(1):\n",
    "    now=datetime.datetime.now()\n",
    "    if(now.second %2 == 0):\n",
    "        print(\"jog\")\n",
    "    else:\n",
    "        print(\"Fard\")    \n",
    "    time.sleep(1)   "
   ]
  },
  {
   "cell_type": "code",
   "execution_count": 6,
   "metadata": {},
   "outputs": [
    {
     "name": "stdout",
     "output_type": "stream",
     "text": [
      "17/01-25\n"
     ]
    }
   ],
   "source": [
    "#time now\n",
    "import datetime\n",
    "now=datetime.datetime.now()\n",
    "print(now.strftime(\"%d/%m-%y-->%A\"))"
   ]
  },
  {
   "cell_type": "code",
   "execution_count": 13,
   "metadata": {},
   "outputs": [
    {
     "name": "stdout",
     "output_type": "stream",
     "text": [
      "28/10-03-->Friday\n"
     ]
    }
   ],
   "source": [
    "#for shamsi:\n",
    "import jdatetime\n",
    "now=jdatetime.datetime.now()\n",
    "print(now.strftime(\"%d/%m-%y-->%A\"))\n"
   ]
  },
  {
   "cell_type": "code",
   "execution_count": null,
   "metadata": {},
   "outputs": [
    {
     "ename": "ValueError",
     "evalue": "time data 'Friday, 28 1403 - 12:Farvardin:34' does not match format '%A, %d %Y - %H:%m:%S'",
     "output_type": "error",
     "traceback": [
      "\u001b[1;31m---------------------------------------------------------------------------\u001b[0m",
      "\u001b[1;31mValueError\u001b[0m                                Traceback (most recent call last)",
      "Cell \u001b[1;32mIn[58], line 5\u001b[0m\n\u001b[0;32m      3\u001b[0m \u001b[38;5;28;01mimport\u001b[39;00m \u001b[38;5;21;01mjdatetime\u001b[39;00m\n\u001b[0;32m      4\u001b[0m now\u001b[38;5;241m=\u001b[39mjdatetime\u001b[38;5;241m.\u001b[39mdatetime\u001b[38;5;241m.\u001b[39mnow()\n\u001b[1;32m----> 5\u001b[0m \u001b[38;5;28mprint\u001b[39m(\u001b[43mnow\u001b[49m\u001b[38;5;241;43m.\u001b[39;49m\u001b[43mstrptime\u001b[49m\u001b[43m(\u001b[49m\u001b[43md\u001b[49m\u001b[43m,\u001b[49m\u001b[38;5;124;43m\"\u001b[39;49m\u001b[38;5;124;43m%\u001b[39;49m\u001b[38;5;124;43mA, \u001b[39;49m\u001b[38;5;132;43;01m%d\u001b[39;49;00m\u001b[38;5;124;43m \u001b[39;49m\u001b[38;5;124;43m%\u001b[39;49m\u001b[38;5;124;43mY - \u001b[39;49m\u001b[38;5;124;43m%\u001b[39;49m\u001b[38;5;124;43mH:\u001b[39;49m\u001b[38;5;124;43m%\u001b[39;49m\u001b[38;5;124;43mm:\u001b[39;49m\u001b[38;5;124;43m%\u001b[39;49m\u001b[38;5;124;43mS\u001b[39;49m\u001b[38;5;124;43m\"\u001b[39;49m\u001b[43m)\u001b[49m)\n",
      "File \u001b[1;32mc:\\Users\\Asus\\AppData\\Local\\Programs\\Python\\Python310\\lib\\site-packages\\jdatetime\\__init__.py:910\u001b[0m, in \u001b[0;36mdatetime.strptime\u001b[1;34m(date_string, format)\u001b[0m\n\u001b[0;32m    908\u001b[0m match \u001b[38;5;241m=\u001b[39m re\u001b[38;5;241m.\u001b[39mfullmatch(regex, date_string)\n\u001b[0;32m    909\u001b[0m \u001b[38;5;28;01mif\u001b[39;00m match \u001b[38;5;129;01mis\u001b[39;00m \u001b[38;5;28;01mNone\u001b[39;00m:\n\u001b[1;32m--> 910\u001b[0m     \u001b[38;5;28;01mraise\u001b[39;00m \u001b[38;5;167;01mValueError\u001b[39;00m(\n\u001b[0;32m    911\u001b[0m         \u001b[38;5;124m\"\u001b[39m\u001b[38;5;124mtime data \u001b[39m\u001b[38;5;124m'\u001b[39m\u001b[38;5;132;01m%s\u001b[39;00m\u001b[38;5;124m'\u001b[39m\u001b[38;5;124m does not match format \u001b[39m\u001b[38;5;124m'\u001b[39m\u001b[38;5;132;01m%s\u001b[39;00m\u001b[38;5;124m'\u001b[39m\u001b[38;5;124m\"\u001b[39m \u001b[38;5;241m%\u001b[39m\n\u001b[0;32m    912\u001b[0m         (date_string, \u001b[38;5;28mformat\u001b[39m)\n\u001b[0;32m    913\u001b[0m     )\n\u001b[0;32m    915\u001b[0m get \u001b[38;5;241m=\u001b[39m match\u001b[38;5;241m.\u001b[39mgroupdict()\u001b[38;5;241m.\u001b[39mget\n\u001b[0;32m    917\u001b[0m year \u001b[38;5;241m=\u001b[39m \u001b[38;5;28mint\u001b[39m(get(\u001b[38;5;124m'\u001b[39m\u001b[38;5;124mY\u001b[39m\u001b[38;5;124m'\u001b[39m) \u001b[38;5;129;01mor\u001b[39;00m get(\u001b[38;5;124m'\u001b[39m\u001b[38;5;124my\u001b[39m\u001b[38;5;124m'\u001b[39m) \u001b[38;5;129;01mor\u001b[39;00m \u001b[38;5;241m1279\u001b[39m)\n",
      "\u001b[1;31mValueError\u001b[0m: time data 'Friday, 28 1403 - 12:Farvardin:34' does not match format '%A, %d %Y - %H:%m:%S'"
     ]
    }
   ],
   "source": [
    "#for shamsi:\n",
    "d=\"Friday, 28 1403 - 12:03:34\"\n",
    "import jdatetime\n",
    "now=jdatetime.datetime.now()\n",
    "print(now.strptime(d,\"%A, %d %Y - %H:%m:%S\"))\n"
   ]
  }
 ],
 "metadata": {
  "kernelspec": {
   "display_name": "Python 3",
   "language": "python",
   "name": "python3"
  },
  "language_info": {
   "codemirror_mode": {
    "name": "ipython",
    "version": 3
   },
   "file_extension": ".py",
   "mimetype": "text/x-python",
   "name": "python",
   "nbconvert_exporter": "python",
   "pygments_lexer": "ipython3",
   "version": "3.10.7"
  }
 },
 "nbformat": 4,
 "nbformat_minor": 2
}
