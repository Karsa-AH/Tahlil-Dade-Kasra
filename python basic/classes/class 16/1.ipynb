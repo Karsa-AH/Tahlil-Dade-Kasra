{
 "cells": [
  {
   "cell_type": "code",
   "execution_count": null,
   "id": "fd17e6af",
   "metadata": {},
   "outputs": [],
   "source": [
    "!pip freeze > requirement.txt"
   ]
  },
  {
   "cell_type": "code",
   "execution_count": 1,
   "id": "04d0b4b3",
   "metadata": {},
   "outputs": [],
   "source": [
    "import requests"
   ]
  },
  {
   "cell_type": "code",
   "execution_count": 2,
   "id": "ac9d949f",
   "metadata": {},
   "outputs": [],
   "source": [
    "site = requests.get(\"https://www.kaggle.com/datasets/usefashrfi/iran-used-cars-dataset\")"
   ]
  },
  {
   "cell_type": "code",
   "execution_count": 4,
   "id": "0f681501",
   "metadata": {},
   "outputs": [
    {
     "data": {
      "text/plain": [
       "b'\\n<html><head>\\n<meta http-equiv=\"content-type\" content=\"text/html;charset=utf-8\">\\n<title>403 Forbidden</title>\\n</head>\\n<body text=#000000 bgcolor=#ffffff>\\n<h1>Error: Forbidden</h1>\\n<h2>Your client does not have permission to get URL <code>/datasets/usefashrfi/iran-used-cars-dataset</code> from this server.</h2>\\n<h2></h2>\\n</body></html>\\n'"
      ]
     },
     "execution_count": 4,
     "metadata": {},
     "output_type": "execute_result"
    }
   ],
   "source": [
    "site.content"
   ]
  },
  {
   "cell_type": "code",
   "execution_count": 5,
   "id": "3343a83b",
   "metadata": {},
   "outputs": [],
   "source": [
    "from bs4 import BeautifulSoup\n",
    "soup = BeautifulSoup(site.content, 'html.parser')"
   ]
  },
  {
   "cell_type": "code",
   "execution_count": 6,
   "id": "9cc74f1d",
   "metadata": {},
   "outputs": [
    {
     "data": {
      "text/plain": [
       "\n",
       "<html><head>\n",
       "<meta content=\"text/html;charset=utf-8\" http-equiv=\"content-type\"/>\n",
       "<title>403 Forbidden</title>\n",
       "</head>\n",
       "<body bgcolor=\"#ffffff\" text=\"#000000\">\n",
       "<h1>Error: Forbidden</h1>\n",
       "<h2>Your client does not have permission to get URL <code>/datasets/usefashrfi/iran-used-cars-dataset</code> from this server.</h2>\n",
       "<h2></h2>\n",
       "</body></html>"
      ]
     },
     "execution_count": 6,
     "metadata": {},
     "output_type": "execute_result"
    }
   ],
   "source": [
    "soup"
   ]
  }
 ],
 "metadata": {
  "kernelspec": {
   "display_name": "env",
   "language": "python",
   "name": "python3"
  },
  "language_info": {
   "codemirror_mode": {
    "name": "ipython",
    "version": 3
   },
   "file_extension": ".py",
   "mimetype": "text/x-python",
   "name": "python",
   "nbconvert_exporter": "python",
   "pygments_lexer": "ipython3",
   "version": "3.13.0"
  }
 },
 "nbformat": 4,
 "nbformat_minor": 5
}
