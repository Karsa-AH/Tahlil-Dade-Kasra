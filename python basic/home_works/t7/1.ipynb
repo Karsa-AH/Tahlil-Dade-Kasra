{
 "cells": [
  {
   "cell_type": "code",
   "execution_count": 1,
   "metadata": {},
   "outputs": [
    {
     "data": {
      "text/plain": [
       "[1, 'this is a word!!!']"
      ]
     },
     "execution_count": 1,
     "metadata": {},
     "output_type": "execute_result"
    }
   ],
   "source": [
    "def tsil(a=[\"hi\"]):\n",
    "    b=[]\n",
    "    for i in a:\n",
    "        b.insert(0,i)\n",
    "    return b \n",
    "tsil([\"this is a word!!!\",1])      "
   ]
  },
  {
   "cell_type": "code",
   "execution_count": 3,
   "metadata": {},
   "outputs": [
    {
     "data": {
      "text/plain": [
       "'01234678'"
      ]
     },
     "execution_count": 3,
     "metadata": {},
     "output_type": "execute_result"
    }
   ],
   "source": [
    "def Big(a=[1,8,\"noo\"]):\n",
    "    b=0\n",
    "    b=a[0]\n",
    "    for i in a:\n",
    "        if(type(i)==str):\n",
    "            if(len(i)>b):\n",
    "                 b=i\n",
    "        else:\n",
    "            if(i>b):\n",
    "                 b=i\n",
    "\n",
    "    return b            \n",
    "Big([1,7,3,0,\"01234678\"])"
   ]
  },
  {
   "cell_type": "code",
   "execution_count": 75,
   "metadata": {},
   "outputs": [
    {
     "data": {
      "text/plain": [
       "(-1, -11, 'good:)')"
      ]
     },
     "execution_count": 75,
     "metadata": {},
     "output_type": "execute_result"
    }
   ],
   "source": [
    "def speed(a):\n",
    "    if(a<=70):\n",
    "        return 'good:)'\n",
    "    elif a>70:\n",
    "        if((a-70)//5>11):\n",
    "            return \"say byebye to driving!!\"\n",
    "        else:\n",
    "            return  (70-a)//5\n",
    "    \n",
    "speed(71) , speed(121) , speed(65)           "
   ]
  },
  {
   "cell_type": "code",
   "execution_count": 85,
   "metadata": {},
   "outputs": [
    {
     "data": {
      "text/plain": [
       "83.74365647617735"
      ]
     },
     "execution_count": 85,
     "metadata": {},
     "output_type": "execute_result"
    }
   ],
   "source": [
    "import math as m\n",
    "def oglidos(a=(0,0),b=(0,0)):\n",
    "    d=(math.sqrt((a[0] - b[0]) ** 2 + (a[1] - b[1]) ** 2))\n",
    "    # d=(d[0]**2,d[1]**2)\n",
    "    # d=(m.sqrt(d[0]),m.sqrt(d[1]))\n",
    "    return(d)\n",
    "oglidos((100,28),(83,110))   "
   ]
  },
  {
   "cell_type": "code",
   "execution_count": 98,
   "metadata": {},
   "outputs": [
    {
     "data": {
      "text/plain": [
       "(False, True)"
      ]
     },
     "execution_count": 98,
     "metadata": {},
     "output_type": "execute_result"
    }
   ],
   "source": [
    "def rasta(a=(0,0),b=(0,0),c=(0,0)):\n",
    "    if(abs(a[0]-b[0])/abs(a[1]-b[1])==abs(c[0]-b[0])/abs(c[1]-b[1])):\n",
    "        return True\n",
    "    else:\n",
    "        return False\n",
    "z=rasta(a=(1,2),b=(3,4),c=(5,7))\n",
    "z  ,  rasta(a=(2,4),b=(4,8),c=(8,16))    "
   ]
  },
  {
   "cell_type": "code",
   "execution_count": 126,
   "metadata": {},
   "outputs": [
    {
     "name": "stdout",
     "output_type": "stream",
     "text": [
      "1.0 1.0 1.4142135623730951\n"
     ]
    },
    {
     "data": {
      "text/plain": [
       "'ghaem al zavieh'"
      ]
     },
     "execution_count": 126,
     "metadata": {},
     "output_type": "execute_result"
    }
   ],
   "source": [
    "import math\n",
    "def distance(xa, ya, xb, yb):\n",
    "        return math.sqrt((xa - xb) ** 2 + (ya - yb) ** 2)    \n",
    "def mos(a,b,c):\n",
    "        if(rasta((1,2),(3,4),(5,7))==False): \n",
    "            f=distance(a[0],a[1],b[0],b[1])\n",
    "            s=distance(a[0],a[1],c[0],c[1])\n",
    "            t=distance(b[0],b[1],c[0],c[1])\n",
    "            print(f,s,t)\n",
    "            if(f==s) and (s==t):\n",
    "                return \"motasavi al azla\"\n",
    "            elif round(f**2+s**2)==round(t**2) or round(t**2+s**2)==round(f**2) or round(f**2+t**2)==round(s**2):\n",
    "                return \"ghaem al zavieh\"\n",
    "            elif (f==s) or (f==t) or (t==s):\n",
    "                return \"motasavi al saghein\"\n",
    "            else:\n",
    "                return \"adi\"\n",
    "        \n",
    "\n",
    "mos((3,4),(3,5),(4,4))"
   ]
  },
  {
   "cell_type": "code",
   "execution_count": 124,
   "metadata": {},
   "outputs": [
    {
     "name": "stdout",
     "output_type": "stream",
     "text": [
      "[0.0, 1.4142135623730951, 3.605551275463989, 5.0, 13.0]\n"
     ]
    }
   ],
   "source": [
    "import math\n",
    "m=[]\n",
    "def sort_points_by_distance(points):\n",
    "    m=[]\n",
    "    for i in points:\n",
    "        m.append(math.dist(i,(0,0)))\n",
    "    return sorted(m)\n",
    "\n",
    "\n",
    "points = [(3, 4), (1, 1), (0, 0), (-2, -3), (5, 12)]\n",
    "sorted_points = sort_points_by_distance(points)\n",
    "\n",
    "print(sorted_points)\n"
   ]
  },
  {
   "cell_type": "markdown",
   "metadata": {},
   "source": []
  }
 ],
 "metadata": {
  "kernelspec": {
   "display_name": "Python 3",
   "language": "python",
   "name": "python3"
  },
  "language_info": {
   "codemirror_mode": {
    "name": "ipython",
    "version": 3
   },
   "file_extension": ".py",
   "mimetype": "text/x-python",
   "name": "python",
   "nbconvert_exporter": "python",
   "pygments_lexer": "ipython3",
   "version": "3.10.7"
  }
 },
 "nbformat": 4,
 "nbformat_minor": 2
}
