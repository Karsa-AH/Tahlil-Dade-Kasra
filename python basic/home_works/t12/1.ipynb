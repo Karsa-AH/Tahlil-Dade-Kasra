{
 "cells": [
  {
   "cell_type": "code",
   "execution_count": 5,
   "id": "d06a121e",
   "metadata": {},
   "outputs": [],
   "source": [
    "class Bastani:\n",
    "    def __init__(self,num_shokolati,num_miveie,num_musical,num_yakhi):\n",
    "        self.shokolati=num_shokolati\n",
    "        self.miveie= num_miveie\n",
    "        self.musical=num_musical\n",
    "        self.yakhi=num_yakhi\n",
    "\n",
    "    def add_to_storage(self,num,typ):\n",
    "        if typ == \"shokolati\":\n",
    "            self.shokolati += num\n",
    "        if typ == \"miveie\":\n",
    "            self.miveie += num\n",
    "        if typ == \"yakhi\":\n",
    "            self.yakhi += num\n",
    "        if typ == \"musical\":\n",
    "            self.musical += num            \n",
    "        if (self.shokolati*100 + self.miveie*55 + self.musical*200 + self.yakhi*40) > 200000:\n",
    "            raise KeyError(\"not enoght storage\")\n",
    "\n",
    "    def buy_shokolati(self,num):\n",
    "        if(num<=self.shokolati):\n",
    "            self.shokolati -= num\n",
    "            print(f\"price : {num*10+num*10/100*20}T , wieght = {num*100}G\")\n",
    "        else:\n",
    "            print(f\"not enought Bastani . we only have {self.shokolati}\")\n",
    "\n",
    "    def buy_miveie(self,num):\n",
    "        if(num<=self.miveie):\n",
    "            self.miveie -= num\n",
    "            print(f\"price : {num*7+num*7/100*20}T , wieght = {num*55}G\")\n",
    "        else:\n",
    "            print(f\"not enought Bastani . we only have {self.miveie}\")\n",
    "\n",
    "    def buy_yakhi(self,num):\n",
    "        if(num<=self.yakhi):\n",
    "            self.yakhi                          -= num\n",
    "            print(f\"price : {num*3+num*3/100*20}T , wieght = {num*40}G\")\n",
    "        else:\n",
    "            print(f\"not enought Bastani . we only have {self.yakhi}\")\n",
    "\n",
    "    def check_storage(self):\n",
    "        print(f\"shokolati : {self.shokolati} , miveie : {self.miveie} , musical : {self.musical} , yakhi : {self.yakhi}\")\n",
    "\n",
    "\n",
    "class Shop(Bastani):\n",
    "    def __init__(self, num_shokolati, num_miveie, num_musical, num_yakhi):\n",
    "        super().__init__(num_shokolati, num_miveie, num_musical, num_yakhi)\n",
    "\n",
    "    def buy_musical(self,num):\n",
    "        if(num*2<=self.musical):\n",
    "            self.musical -= num*2\n",
    "            print(f\"price : {num*15+num*15/100*20*2}T , wieght = {num*200*2}G\")\n",
    "        else:\n",
    "            print(f\"not enought Bastani . we only have {self.musical}\")\n",
    "\n",
    "    def music(self):\n",
    "        print(f\"here is your music https://www.youtube.com/watch?v=dQw4w9WgXcQ\")  \n"
   ]
  },
  {
   "cell_type": "code",
   "execution_count": 6,
   "id": "1fc79698",
   "metadata": {},
   "outputs": [],
   "source": [
    "b=Shop(10,10,10,10)"
   ]
  },
  {
   "cell_type": "markdown",
   "id": "0389da7f",
   "metadata": {},
   "source": [
    "for manual control of Storage:"
   ]
  },
  {
   "cell_type": "code",
   "execution_count": 98,
   "id": "5e71ddc0",
   "metadata": {},
   "outputs": [],
   "source": [
    "b.add_to_storage(10)"
   ]
  },
  {
   "cell_type": "markdown",
   "id": "5d51eadf",
   "metadata": {},
   "source": [
    "shopping methode:"
   ]
  },
  {
   "cell_type": "code",
   "execution_count": 99,
   "id": "59112fb9",
   "metadata": {},
   "outputs": [
    {
     "name": "stdout",
     "output_type": "stream",
     "text": [
      "price : 8.4T , wieght = 55G\n"
     ]
    }
   ],
   "source": [
    "b.buy_miveie(1)"
   ]
  },
  {
   "cell_type": "code",
   "execution_count": 100,
   "id": "2b1f9b16",
   "metadata": {},
   "outputs": [
    {
     "name": "stdout",
     "output_type": "stream",
     "text": [
      "not enought Bastani . we only have 21\n"
     ]
    }
   ],
   "source": [
    "b.buy_musical(12)"
   ]
  },
  {
   "cell_type": "code",
   "execution_count": 101,
   "id": "a1129181",
   "metadata": {},
   "outputs": [
    {
     "name": "stdout",
     "output_type": "stream",
     "text": [
      "price : 120.0T , wieght = 1000G\n"
     ]
    }
   ],
   "source": [
    "b.buy_shokolati(10)"
   ]
  },
  {
   "cell_type": "code",
   "execution_count": 102,
   "id": "c326f1de",
   "metadata": {},
   "outputs": [
    {
     "name": "stdout",
     "output_type": "stream",
     "text": [
      "price : 10.8T , wieght = 120G\n"
     ]
    }
   ],
   "source": [
    "b.buy_yakhi(3)"
   ]
  },
  {
   "cell_type": "markdown",
   "id": "1a2d82e1",
   "metadata": {},
   "source": [
    "play the music:"
   ]
  },
  {
   "cell_type": "code",
   "execution_count": 103,
   "id": "7f0f91f6",
   "metadata": {},
   "outputs": [
    {
     "name": "stdout",
     "output_type": "stream",
     "text": [
      "here is your music https://www.youtube.com/watch?v=dQw4w9WgXcQ\n"
     ]
    }
   ],
   "source": [
    "b.music()"
   ]
  },
  {
   "cell_type": "code",
   "execution_count": 104,
   "id": "059b5595",
   "metadata": {},
   "outputs": [
    {
     "data": {
      "text/plain": [
       "33"
      ]
     },
     "execution_count": 104,
     "metadata": {},
     "output_type": "execute_result"
    }
   ],
   "source": [
    "b.miveie"
   ]
  },
  {
   "cell_type": "code",
   "execution_count": null,
   "id": "8f53e85a",
   "metadata": {},
   "outputs": [],
   "source": [
    "b"
   ]
  },
  {
   "cell_type": "code",
   "execution_count": 9,
   "id": "4b89c018",
   "metadata": {},
   "outputs": [
    {
     "data": {
      "text/plain": [
       "20"
      ]
     },
     "execution_count": 9,
     "metadata": {},
     "output_type": "execute_result"
    }
   ],
   "source": [
    "b.shokolati"
   ]
  },
  {
   "cell_type": "code",
   "execution_count": 8,
   "id": "ae5a6338",
   "metadata": {},
   "outputs": [],
   "source": [
    "b.add_to_storage(10,\"shokolati\")"
   ]
  }
 ],
 "metadata": {
  "kernelspec": {
   "display_name": "Python 3",
   "language": "python",
   "name": "python3"
  },
  "language_info": {
   "codemirror_mode": {
    "name": "ipython",
    "version": 3
   },
   "file_extension": ".py",
   "mimetype": "text/x-python",
   "name": "python",
   "nbconvert_exporter": "python",
   "pygments_lexer": "ipython3",
   "version": "3.10.7"
  }
 },
 "nbformat": 4,
 "nbformat_minor": 5
}
