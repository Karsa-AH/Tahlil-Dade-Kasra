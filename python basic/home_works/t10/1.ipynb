{
 "cells": [
  {
   "cell_type": "markdown",
   "id": "0910ad45",
   "metadata": {},
   "source": [
    "### 1:"
   ]
  },
  {
   "cell_type": "code",
   "execution_count": null,
   "id": "51bc24f2",
   "metadata": {},
   "outputs": [],
   "source": [
    "def find_m(i1,i2):\n",
    "    c=0\n",
    "    with open(i1) as f1:\n",
    "        with open(i2) as f2:\n",
    "            f1=f1.read()\n",
    "            f2=f2.read()\n",
    "            l1=f1.split()\n",
    "            l2=f2.split()\n",
    "\n",
    "            l1=list(set(l1))\n",
    "    for i in l1:\n",
    "        if str(i) in l2:\n",
    "            c += 1 \n",
    "    return c        \n",
    "            \n"
   ]
  },
  {
   "cell_type": "code",
   "execution_count": 43,
   "id": "31363950",
   "metadata": {},
   "outputs": [
    {
     "data": {
      "text/plain": [
       "12"
      ]
     },
     "execution_count": 43,
     "metadata": {},
     "output_type": "execute_result"
    }
   ],
   "source": [
    "find_m(r\"test1.txt\",r\"test2.txt\")"
   ]
  },
  {
   "cell_type": "markdown",
   "id": "a2838461",
   "metadata": {},
   "source": [
    "### 2"
   ]
  },
  {
   "cell_type": "code",
   "execution_count": 41,
   "id": "90a4c4e4",
   "metadata": {},
   "outputs": [],
   "source": [
    "def copy_file(i,o):\n",
    "    with open(i,\"r\") as i:\n",
    "        i=i.read()\n",
    "        with open(o,\"a\") as o:\n",
    "            o=o.write(i)"
   ]
  },
  {
   "cell_type": "code",
   "execution_count": 42,
   "id": "4b187c4f",
   "metadata": {},
   "outputs": [],
   "source": [
    "copy_file(r\"test1.txt\",r\"test2.txt\")"
   ]
  },
  {
   "cell_type": "markdown",
   "id": "1a7af3cb",
   "metadata": {},
   "source": [
    "### 3"
   ]
  },
  {
   "cell_type": "code",
   "execution_count": 85,
   "id": "abb84966",
   "metadata": {},
   "outputs": [],
   "source": [
    "def remove_empty_lines(i):\n",
    "    with open(i,'r') as z:\n",
    "        a=z.readlines()\n",
    "        for x in a:\n",
    "            if x==\"\\n\" :\n",
    "                a.remove(\"\\n\")\n",
    "\n",
    "\n",
    "    with open(i,\"w\")  as o:\n",
    "        for d in a:\n",
    "            o.write(d)      "
   ]
  },
  {
   "cell_type": "code",
   "execution_count": 86,
   "id": "0ef0e347",
   "metadata": {},
   "outputs": [],
   "source": [
    "remove_empty_lines(r\"test1.txt\")"
   ]
  },
  {
   "cell_type": "markdown",
   "id": "cc15d25b",
   "metadata": {},
   "source": [
    "### 4"
   ]
  },
  {
   "cell_type": "code",
   "execution_count": 87,
   "id": "b6c08a48",
   "metadata": {},
   "outputs": [],
   "source": [
    "def search_word(a,w):\n",
    "    with open(a,\"r\") as ip:\n",
    "        ip=ip.read()\n",
    "        ip=ip.split()\n",
    "        return ip.count(w)\n",
    "\n"
   ]
  },
  {
   "cell_type": "code",
   "execution_count": 90,
   "id": "c36f738b",
   "metadata": {},
   "outputs": [
    {
     "data": {
      "text/plain": [
       "2"
      ]
     },
     "execution_count": 90,
     "metadata": {},
     "output_type": "execute_result"
    }
   ],
   "source": [
    "search_word(r\"test1.txt\",\"is\")"
   ]
  },
  {
   "cell_type": "markdown",
   "id": "3dfce1ca",
   "metadata": {},
   "source": [
    "### 5"
   ]
  },
  {
   "cell_type": "code",
   "execution_count": 94,
   "id": "ae9bac06",
   "metadata": {},
   "outputs": [],
   "source": [
    "def compare_files(a1,a2):\n",
    "    with open(a1,\"r\") as a1:\n",
    "        a1=a1.read()\n",
    "    with open(a2,\"r\") as a2:\n",
    "        a2=a2.read()\n",
    "    if(a1==a2):\n",
    "        return \"yes\"\n",
    "    else:\n",
    "        return \"no\"        "
   ]
  },
  {
   "cell_type": "code",
   "execution_count": 95,
   "id": "17c7936b",
   "metadata": {},
   "outputs": [
    {
     "data": {
      "text/plain": [
       "'yes'"
      ]
     },
     "execution_count": 95,
     "metadata": {},
     "output_type": "execute_result"
    }
   ],
   "source": [
    "compare_files(r\"test1.txt\",r\"test2.txt\")"
   ]
  },
  {
   "cell_type": "markdown",
   "id": "be0546b7",
   "metadata": {},
   "source": [
    "### 6"
   ]
  },
  {
   "cell_type": "code",
   "execution_count": 102,
   "id": "9bfb5098",
   "metadata": {},
   "outputs": [],
   "source": [
    "def find_lines_with_word(a1,w):\n",
    "    with open(a1,\"r\") as a1:\n",
    "        a1= a1.readlines()\n",
    "    for i in a1:\n",
    "        if w in i:\n",
    "            print(i)\n"
   ]
  },
  {
   "cell_type": "code",
   "execution_count": 103,
   "id": "78a99172",
   "metadata": {},
   "outputs": [
    {
     "name": "stdout",
     "output_type": "stream",
     "text": [
      "this is test \n",
      "\n",
      "where is your code ?\n",
      "\n"
     ]
    }
   ],
   "source": [
    "find_lines_with_word(r\"test1.txt\",\"is\")"
   ]
  },
  {
   "cell_type": "markdown",
   "id": "d0f037ba",
   "metadata": {},
   "source": [
    "### 7"
   ]
  },
  {
   "cell_type": "code",
   "execution_count": 108,
   "id": "42477229",
   "metadata": {},
   "outputs": [],
   "source": [
    "def file_similarity_difference(a1,a2):\n",
    "    c=0\n",
    "    with open(a1,\"r\") as a1:\n",
    "        a1=a1.read()\n",
    "        a1=a1.split()\n",
    "        a1=list(set(a1))\n",
    "    with open(a2,\"r\") as a2:\n",
    "        a2=a2.read()\n",
    "        a2=a2.split()\n",
    "    for i in a1:\n",
    "        if i in a2:\n",
    "            c +=1 \n",
    "        all=len(a1)+len(a2)    \n",
    "        pos = 100/all\n",
    "        return f\"your txts are {c*pos*2}% similar and {(all-(c*2))*pos}%\"            "
   ]
  },
  {
   "cell_type": "code",
   "execution_count": 109,
   "id": "a35b0af1",
   "metadata": {},
   "outputs": [
    {
     "data": {
      "text/plain": [
       "'your txts are 4.878048780487805% similar and 95.1219512195122%'"
      ]
     },
     "execution_count": 109,
     "metadata": {},
     "output_type": "execute_result"
    }
   ],
   "source": [
    "file_similarity_difference(r\"test1.txt\",r\"test2.txt\")"
   ]
  },
  {
   "cell_type": "markdown",
   "id": "ab6e242a",
   "metadata": {},
   "source": [
    "### 8"
   ]
  },
  {
   "cell_type": "code",
   "execution_count": 123,
   "id": "da405e6c",
   "metadata": {},
   "outputs": [],
   "source": [
    "def file_statistics(a1):\n",
    "    with open(a1,\"r\") as f:\n",
    "        l1=f.readlines()\n",
    "        f.seek(0)\n",
    "        l2=f.read()\n",
    "        l2=l2.split()\n",
    "        f.seek(0)\n",
    "\n",
    "        c=0\n",
    "        for i in f.read():\n",
    "            if i != \" \" and i != \"\\n\":\n",
    "                c += 1\n",
    "        return f\"your txt have {len(l1)} lines and {len(l2)} word and {c} character \"            "
   ]
  },
  {
   "cell_type": "code",
   "execution_count": 124,
   "id": "eea6cde0",
   "metadata": {},
   "outputs": [
    {
     "data": {
      "text/plain": [
       "'your txt have 4 lines and 14 word and 42 character '"
      ]
     },
     "execution_count": 124,
     "metadata": {},
     "output_type": "execute_result"
    }
   ],
   "source": [
    "file_statistics(R\"test1.txt\")"
   ]
  }
 ],
 "metadata": {
  "kernelspec": {
   "display_name": "Python 3",
   "language": "python",
   "name": "python3"
  },
  "language_info": {
   "codemirror_mode": {
    "name": "ipython",
    "version": 3
   },
   "file_extension": ".py",
   "mimetype": "text/x-python",
   "name": "python",
   "nbconvert_exporter": "python",
   "pygments_lexer": "ipython3",
   "version": "3.10.7"
  }
 },
 "nbformat": 4,
 "nbformat_minor": 5
}
