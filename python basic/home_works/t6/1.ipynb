{
 "cells": [
  {
   "cell_type": "markdown",
   "metadata": {},
   "source": [
    "### 1"
   ]
  },
  {
   "cell_type": "code",
   "execution_count": 62,
   "metadata": {},
   "outputs": [
    {
     "data": {
      "text/plain": [
       "{'a': 400, 'b': 400, 'd': 400, 'c': 300}"
      ]
     },
     "execution_count": 62,
     "metadata": {},
     "output_type": "execute_result"
    }
   ],
   "source": [
    "d1 = {'a': 100, 'b': 200, 'c':300}\n",
    "d2 = {'a': 300, 'b': 200, 'd':400}\n",
    "for a,b in d1.items():\n",
    "    \n",
    "    d2[a] = d2.get(a, 0) + b\n",
    "d2"
   ]
  },
  {
   "cell_type": "markdown",
   "metadata": {},
   "source": [
    "### 2"
   ]
  },
  {
   "cell_type": "code",
   "execution_count": 227,
   "metadata": {},
   "outputs": [
    {
     "data": {
      "text/plain": [
       "({25: 2, 30: 3, 1: 1},\n",
       " {1, 25, 30},\n",
       " [('mm', 1),\n",
       "  ('Ali', 25),\n",
       "  ('Reza', 25),\n",
       "  ('Mina', 30),\n",
       "  ('Sara', 30),\n",
       "  ('mmd', 30)])"
      ]
     },
     "execution_count": 227,
     "metadata": {},
     "output_type": "execute_result"
    }
   ],
   "source": [
    "people = [(\"Ali\", 25), (\"Mina\", 30), (\"Reza\", 25), (\"Sara\", 30),(\"mmd\",30),(\"mm\",1)]\n",
    "s=set({})\n",
    "m={}\n",
    "c=0\n",
    "for i,z in people:\n",
    "    s.add(z)\n",
    "    m.setdefault(z,0)\n",
    "    m[z]+=1\n",
    " \n",
    "\n",
    "\n",
    "m,s,sorted(people,key=lambda item:item[1])"
   ]
  },
  {
   "cell_type": "markdown",
   "metadata": {},
   "source": [
    "### 3"
   ]
  },
  {
   "cell_type": "code",
   "execution_count": 232,
   "metadata": {},
   "outputs": [
    {
     "data": {
      "text/plain": [
       "[{'name': 'Mina', 'age': 30}, {'name': 'Sara', 'age': 28}]"
      ]
     },
     "execution_count": 232,
     "metadata": {},
     "output_type": "execute_result"
    }
   ],
   "source": [
    "people = [{\"name\": \"Ali\", \"age\": 23},{\"name\": \"Mina\", \"age\": 30},{\"name\": \"Reza\", \"age\": 25},{\"name\": \"Sara\", \"age\": 28}]\n",
    "for i in people:\n",
    "    if(i[\"age\"]<=25):\n",
    "        del people[people.index(i)]\n",
    "people        "
   ]
  },
  {
   "cell_type": "markdown",
   "metadata": {},
   "source": [
    "### 4"
   ]
  },
  {
   "cell_type": "code",
   "execution_count": 239,
   "metadata": {},
   "outputs": [
    {
     "data": {
      "text/plain": [
       "[9, 5, 4, 3, 2, 1]"
      ]
     },
     "execution_count": 239,
     "metadata": {},
     "output_type": "execute_result"
    }
   ],
   "source": [
    "nested_list = [[1, 2, 3], [2, 3, 4], [3, 4, 5,9,3]]\n",
    "s=set({})\n",
    "for i in nested_list:\n",
    "    for k in i:\n",
    "        s.add(k)\n",
    "sorted(list(s),reverse=True)"
   ]
  },
  {
   "cell_type": "markdown",
   "metadata": {},
   "source": [
    "### 5"
   ]
  },
  {
   "cell_type": "code",
   "execution_count": 250,
   "metadata": {},
   "outputs": [
    {
     "data": {
      "text/plain": [
       "{5: ['apple'], 3: ['cat', 'dog'], 4: ['book', 'wert'], 6: ['python', 'asdfgh']}"
      ]
     },
     "execution_count": 250,
     "metadata": {},
     "output_type": "execute_result"
    }
   ],
   "source": [
    "w = [\"apple\", \"cat\", \"dog\", \"book\", \"python\",\"asdfgh\",\"wert\"]\n",
    "a={}\n",
    "for i in w:\n",
    "    a.setdefault(len(i),[])\n",
    "    a[len(i)].append(i)   \n",
    "a         "
   ]
  }
 ],
 "metadata": {
  "kernelspec": {
   "display_name": "Python 3",
   "language": "python",
   "name": "python3"
  },
  "language_info": {
   "codemirror_mode": {
    "name": "ipython",
    "version": 3
   },
   "file_extension": ".py",
   "mimetype": "text/x-python",
   "name": "python",
   "nbconvert_exporter": "python",
   "pygments_lexer": "ipython3",
   "version": "3.10.7"
  }
 },
 "nbformat": 4,
 "nbformat_minor": 2
}
