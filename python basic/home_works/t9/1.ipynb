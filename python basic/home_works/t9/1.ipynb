{
 "cells": [
  {
   "cell_type": "markdown",
   "id": "fa7e2a30",
   "metadata": {},
   "source": [
    "### 1"
   ]
  },
  {
   "cell_type": "code",
   "execution_count": null,
   "id": "161d7d63",
   "metadata": {},
   "outputs": [],
   "source": [
    "def read_ln(n=0,p=\"\"):\n",
    "    file=open(p)\n",
    "    for i in range(n):\n",
    "        print(file.readline())\n",
    "    file.close()    "
   ]
  },
  {
   "cell_type": "code",
   "execution_count": null,
   "id": "b049bf9a",
   "metadata": {},
   "outputs": [
    {
     "name": "stdout",
     "output_type": "stream",
     "text": [
      "this is  a sample test \n",
      "\n",
      "I am Kasra\n",
      "\n",
      "I live in Tehran \n",
      "\n"
     ]
    }
   ],
   "source": [
    "\n",
    "read_ln(3,\"C:\\\\Users\\\\Asus\\\\Desktop\\\\tahlil dade\\\\home_works\\\\t9\\\\sample.txt\")\n",
    "  "
   ]
  },
  {
   "cell_type": "markdown",
   "id": "11a838da",
   "metadata": {},
   "source": [
    "### 2"
   ]
  },
  {
   "cell_type": "code",
   "execution_count": 114,
   "id": "20b6900f",
   "metadata": {},
   "outputs": [],
   "source": [
    "def read_ln_bw(n=0):\n",
    "    path=r\"sample.txt\"\n",
    "    file=open(path)\n",
    "    file=file.readlines()\n",
    "    file.reverse()\n",
    "    print(file[:n])\n",
    "\n"
   ]
  },
  {
   "cell_type": "code",
   "execution_count": 116,
   "id": "a32132bb",
   "metadata": {},
   "outputs": [
    {
     "name": "stdout",
     "output_type": "stream",
     "text": [
      "['Hello World', 'and i have a massage :\\n']\n"
     ]
    }
   ],
   "source": [
    "read_ln_bw(2)"
   ]
  },
  {
   "cell_type": "markdown",
   "id": "679d9bdd",
   "metadata": {},
   "source": [
    "### 3\n",
    "but it already exist!"
   ]
  },
  {
   "cell_type": "code",
   "execution_count": 151,
   "id": "a00d2080",
   "metadata": {},
   "outputs": [],
   "source": [
    "def rev(n):\n",
    "    e=False\n",
    "    if(n<0):\n",
    "        n=abs(n)\n",
    "        e=True\n",
    "    n=list(str(n))\n",
    "    s=0\n",
    "    print(n)\n",
    "\n",
    "    for i in range(len(n)-1,-1,-1):\n",
    "        s=(s*10)+int(n[i])\n",
    "    if(e==True):\n",
    "        return s*-1\n",
    "    return s    "
   ]
  },
  {
   "cell_type": "code",
   "execution_count": 152,
   "id": "ee525487",
   "metadata": {},
   "outputs": [
    {
     "name": "stdout",
     "output_type": "stream",
     "text": [
      "['1', '2', '7', '6', '6', '3']\n"
     ]
    },
    {
     "data": {
      "text/plain": [
       "-366721"
      ]
     },
     "execution_count": 152,
     "metadata": {},
     "output_type": "execute_result"
    }
   ],
   "source": [
    "rev(-127663)"
   ]
  },
  {
   "cell_type": "markdown",
   "id": "10ef5079",
   "metadata": {},
   "source": [
    "### 4"
   ]
  },
  {
   "cell_type": "code",
   "execution_count": 158,
   "id": "a6081d89",
   "metadata": {},
   "outputs": [],
   "source": [
    "def add_str(a,b):\n",
    "    num=0\n",
    "    num=float(a)+float(b)\n",
    "    return num"
   ]
  },
  {
   "cell_type": "code",
   "execution_count": 160,
   "id": "baf0a508",
   "metadata": {},
   "outputs": [
    {
     "data": {
      "text/plain": [
       "398.5"
      ]
     },
     "execution_count": 160,
     "metadata": {},
     "output_type": "execute_result"
    }
   ],
   "source": [
    "add_str(\"423.5\",\"-25\")"
   ]
  },
  {
   "cell_type": "markdown",
   "id": "0276b939",
   "metadata": {},
   "source": [
    "### 5"
   ]
  },
  {
   "cell_type": "code",
   "execution_count": 29,
   "id": "d22af468",
   "metadata": {},
   "outputs": [],
   "source": [
    "\n",
    "def fuchar(n):\n",
    "    n=list(n)\n",
    "    for i in n:\n",
    "        if(n.count(i.lower())==1) and (i != \" \"):\n",
    "            return n.index(i)\n",
    "    return -1"
   ]
  },
  {
   "cell_type": "code",
   "execution_count": 30,
   "id": "eff6a133",
   "metadata": {},
   "outputs": [
    {
     "data": {
      "text/plain": [
       "20"
      ]
     },
     "execution_count": 30,
     "metadata": {},
     "output_type": "execute_result"
    }
   ],
   "source": [
    "a=''' aaaabccfddbf rrreeew'''\n",
    "fuchar(a)"
   ]
  },
  {
   "cell_type": "code",
   "execution_count": 192,
   "id": "7c46789d",
   "metadata": {},
   "outputs": [
    {
     "data": {
      "text/plain": [
       "'w'"
      ]
     },
     "execution_count": 192,
     "metadata": {},
     "output_type": "execute_result"
    }
   ],
   "source": [
    "a[20]"
   ]
  },
  {
   "cell_type": "markdown",
   "id": "91474b90",
   "metadata": {},
   "source": [
    "### 6"
   ]
  },
  {
   "cell_type": "code",
   "execution_count": null,
   "id": "f17cb5e9",
   "metadata": {},
   "outputs": [],
   "source": [
    "def miror(n):\n",
    "    n=list(n)\n",
    "    if(n[0]==n[-1]):    \n",
    "        print(\"True\")\n",
    "    else:\n",
    "        print(\"False\")        "
   ]
  },
  {
   "cell_type": "code",
   "execution_count": 198,
   "id": "b9985727",
   "metadata": {},
   "outputs": [
    {
     "name": "stdout",
     "output_type": "stream",
     "text": [
      "True\n",
      "False\n"
     ]
    },
    {
     "data": {
      "text/plain": [
       "(None, None)"
      ]
     },
     "execution_count": 198,
     "metadata": {},
     "output_type": "execute_result"
    }
   ],
   "source": [
    "miror(\"rahkar\") , miror(\"mehdi\")"
   ]
  }
 ],
 "metadata": {
  "kernelspec": {
   "display_name": "Python 3",
   "language": "python",
   "name": "python3"
  },
  "language_info": {
   "codemirror_mode": {
    "name": "ipython",
    "version": 3
   },
   "file_extension": ".py",
   "mimetype": "text/x-python",
   "name": "python",
   "nbconvert_exporter": "python",
   "pygments_lexer": "ipython3",
   "version": "3.10.7"
  }
 },
 "nbformat": 4,
 "nbformat_minor": 5
}
