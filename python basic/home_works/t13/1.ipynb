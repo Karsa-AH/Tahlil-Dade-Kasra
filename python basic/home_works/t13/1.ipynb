{
 "cells": [
  {
   "cell_type": "code",
   "execution_count": 3,
   "id": "c6dd8165",
   "metadata": {},
   "outputs": [
    {
     "data": {
      "text/plain": [
       "<sqlite3.Cursor at 0x20ab2651c40>"
      ]
     },
     "execution_count": 3,
     "metadata": {},
     "output_type": "execute_result"
    }
   ],
   "source": [
    "import sqlite3\n",
    "conn = sqlite3.connect(\"cust_database.db\")\n",
    "\n",
    "create=\"\"\"\n",
    "CREATE TABLE IF NOT EXISTS customer(\n",
    "c_ID INTEGER PRIMARY KEY AUTOINCREMENT,\n",
    "name,\n",
    "phone int,\n",
    "address)\n",
    "\"\"\"\n",
    "\n",
    "cursor=conn.cursor()\n",
    "cursor.execute(create)\n"
   ]
  },
  {
   "cell_type": "code",
   "execution_count": 4,
   "id": "6a4ae2c2",
   "metadata": {},
   "outputs": [],
   "source": [
    "create_products = \"\"\"\n",
    "CREATE TABLE IF NOT EXISTS products (\n",
    "    p_ID INTEGER PRIMARY KEY AUTOINCREMENT,\n",
    "    name TEXT,\n",
    "    price REAL,\n",
    "    year_produced INTEGER,\n",
    "    description TEXT\n",
    ")\n",
    "\"\"\"\n",
    "cursor.execute(create_products)\n",
    "conn.commit()\n"
   ]
  },
  {
   "cell_type": "code",
   "execution_count": null,
   "id": "94da76ef",
   "metadata": {},
   "outputs": [],
   "source": []
  },
  {
   "cell_type": "code",
   "execution_count": 71,
   "id": "465b8783",
   "metadata": {},
   "outputs": [],
   "source": [
    "\n",
    "class customer:\n",
    "    def __init__(self):\n",
    "        pass\n",
    "        \n",
    "    def add_acount(self, name, phone, address):\n",
    "        add = \"INSERT INTO customer (name, phone, address) VALUES (?, ?, ?)\"\n",
    "        cursor.execute(add, (name, phone, address))\n",
    "        conn.commit()\n",
    "        customer_id = cursor.lastrowid\n",
    "        table_name = f\"basket_{customer_id}\"\n",
    "\n",
    "        # Create personal basket table\n",
    "        create_basket = f\"\"\"\n",
    "        CREATE TABLE IF NOT EXISTS {table_name} (\n",
    "            basket_id INTEGER PRIMARY KEY AUTOINCREMENT,\n",
    "            product_id INTEGER,\n",
    "            quantity INTEGER,\n",
    "            FOREIGN KEY (product_id) REFERENCES products(p_ID)\n",
    "        )\n",
    "        \"\"\"\n",
    "        cursor.execute(create_basket)\n",
    "        conn.commit()\n",
    "        print(\"account created\")\n",
    "\n",
    "\n",
    "    def customer_list(self):\n",
    "        lis=\"SELECT * FROM customer\"\n",
    "        a=cursor.execute(lis)\n",
    "        print(a.fetchall())\n",
    "\n",
    "    def delete_account(self,id):\n",
    "        delete = \"DELETE FROM customer WHERE c_ID = ?\"\n",
    "        cursor.execute(delete,(str(id)))\n",
    "        conn.commit()\n",
    "\n",
    "    def whats_my_ID(self,name,phone):\n",
    "        t=\"SELECT c_ID FROM customer WHERE name = ? AND phone = ?\"\n",
    "        cursor.execute(t,(name,phone))\n",
    "        iD=cursor.fetchone()\n",
    "        print(f\"your ID is {iD} . enjoy :)\")\n",
    "\n",
    "\n",
    "\n"
   ]
  },
  {
   "cell_type": "code",
   "execution_count": 72,
   "id": "78e157a6",
   "metadata": {},
   "outputs": [],
   "source": [
    "class products:\n",
    "    def __init__(self):\n",
    "        pass\n",
    "\n",
    "    def add_product(self,name,price,year_produced,description):\n",
    "        add = \"INSERT INTO products (name, price, year_produced , description) VALUES (?,?,?,?)\"\n",
    "        cursor.execute(add ,(name, price, year_produced, description))\n",
    "        conn.commit()\n",
    "\n",
    "    def whats_product_iD(self,name,year_produced):\n",
    "        t=\"SELECT p_ID FROM products WHERE name = ? AND year_produced = ?\"\n",
    "        cursor.execute(t,(name,year_produced))\n",
    "        iD=cursor.fetchone()\n",
    "        print(f\"the product ID is {iD} .\")\n",
    "\n",
    "    def delete_product(self,id):\n",
    "        delete = \"DELETE FROM products WHERE p_ID = ?\"\n",
    "        cursor.execute(delete,(str(id)))\n",
    "        conn.commit()\n",
    "\n",
    "    def products_list(self):\n",
    "        lis=\"SELECT * FROM products\"\n",
    "        a=cursor.execute(lis)\n",
    "        print(a.fetchall())\n",
    "\n",
    "    "
   ]
  },
  {
   "cell_type": "code",
   "execution_count": 73,
   "id": "f020d750",
   "metadata": {},
   "outputs": [],
   "source": [
    "class shop(products, customer):\n",
    "\n",
    "    def add_to_basket(self, customer_id, product_id, quantity=1):\n",
    "        table = f\"basket_{customer_id}\"\n",
    "        check = f\"SELECT quantity FROM {table} WHERE product_id = ?\"\n",
    "        cursor.execute(check, (product_id,))\n",
    "        result = cursor.fetchone()\n",
    "\n",
    "        if result==True:\n",
    "            new_qty = result[0] + quantity\n",
    "            update = f\"UPDATE {table} SET quantity = ? WHERE product_id = ?\"\n",
    "            cursor.execute(update, (new_qty, product_id))\n",
    "        else:\n",
    "            insert = f\"INSERT INTO {table} (product_id, quantity) VALUES (?, ?)\"\n",
    "            cursor.execute(insert, (product_id, quantity))\n",
    "\n",
    "        conn.commit()\n",
    "        print(f\"Added {quantity} of product {product_id} to basket\")\n",
    "\n",
    "    def view_basket(self, customer_id):\n",
    "        table = f\"basket_{customer_id}\"\n",
    "        query = f\"\"\"\n",
    "        SELECT p.p_ID, p.name, p.price, b.quantity, (p.price * b.quantity) as total_price\n",
    "        FROM {table} b\n",
    "        JOIN products p ON b.product_id = p.p_ID\n",
    "        \"\"\"\n",
    "        cursor.execute(query)\n",
    "        items = cursor.fetchall()\n",
    "\n",
    "        if items:\n",
    "            total = 0\n",
    "            for item in items:\n",
    "                print(f\"ID: {item[0]}, Name: {item[1]}, Price: {item[2]}, Qty: {item[3]}, Total: {item[4]}\")\n",
    "                total += item[4]\n",
    "            print(f\" Total: {total}\")\n",
    "        else:\n",
    "            print(f\"empty\")\n",
    "\n",
    "    def remove_from_basket(self, customer_id, product_id, quantity=1):\n",
    "        table = f\"basket_{customer_id}\"\n",
    "        check = f\"SELECT quantity FROM {table} WHERE product_id = ?\"\n",
    "        cursor.execute(check, (product_id,))\n",
    "        result = cursor.fetchone()\n",
    "\n",
    "        if result:\n",
    "            current_qty = result[0]\n",
    "            if current_qty > quantity:\n",
    "                update = f\"UPDATE {table} SET quantity = ? WHERE product_id = ?\"\n",
    "                cursor.execute(update, (current_qty - quantity, product_id))\n",
    "                print(f\"Removed {quantity} of product {product_id}\")\n",
    "            else:\n",
    "                delete = f\"DELETE FROM {table} WHERE product_id = ?\"\n",
    "                cursor.execute(delete, (product_id,))\n",
    "                print(f\"Removed product {product_id}\")\n",
    "            conn.commit()\n",
    "        else:\n",
    "            print(\"not in basket.\")\n",
    "\n",
    "    def checkout(self, customer_id):\n",
    "        table = f\"basket_{customer_id}\"\n",
    "\n",
    "        delete = f\"DELETE FROM {table}\"\n",
    "        cursor.execute(delete)\n",
    "        conn.commit()\n",
    "        print(\"complete\")\n",
    "\n"
   ]
  },
  {
   "cell_type": "code",
   "execution_count": 85,
   "id": "694f7a40",
   "metadata": {},
   "outputs": [],
   "source": [
    "s=shop()"
   ]
  },
  {
   "cell_type": "markdown",
   "id": "03f8a85a",
   "metadata": {},
   "source": [
    "### customer related:"
   ]
  },
  {
   "cell_type": "code",
   "execution_count": 9,
   "id": "d31d3805",
   "metadata": {},
   "outputs": [
    {
     "name": "stdout",
     "output_type": "stream",
     "text": [
      "account created\n"
     ]
    }
   ],
   "source": [
    "s.add_acount(\"kasra\",\"0912\",\"tehran\")"
   ]
  },
  {
   "cell_type": "code",
   "execution_count": 10,
   "id": "241478f9",
   "metadata": {},
   "outputs": [
    {
     "name": "stdout",
     "output_type": "stream",
     "text": [
      "your ID is (1,) . enjoy :)\n"
     ]
    }
   ],
   "source": [
    "s.whats_my_ID(\"kasra\",\"0912\")"
   ]
  },
  {
   "cell_type": "code",
   "execution_count": 11,
   "id": "f428bc66",
   "metadata": {},
   "outputs": [
    {
     "name": "stdout",
     "output_type": "stream",
     "text": [
      "account created\n"
     ]
    }
   ],
   "source": [
    "s.add_acount(\"ali\",\"0910\",\"karaj\")"
   ]
  },
  {
   "cell_type": "code",
   "execution_count": 31,
   "id": "9eec8472",
   "metadata": {},
   "outputs": [
    {
     "name": "stdout",
     "output_type": "stream",
     "text": [
      "[(1, 'kasra', 912, 'tehran'), (2, 'ali', 910, 'karaj')]\n"
     ]
    }
   ],
   "source": [
    "s.customer_list()"
   ]
  },
  {
   "cell_type": "code",
   "execution_count": 75,
   "id": "d64f51a4",
   "metadata": {},
   "outputs": [],
   "source": [
    "s.delete_account(\"2\")"
   ]
  },
  {
   "cell_type": "code",
   "execution_count": 76,
   "id": "66c29470",
   "metadata": {},
   "outputs": [
    {
     "name": "stdout",
     "output_type": "stream",
     "text": [
      "[(1, 'kasra', 912, 'tehran')]\n"
     ]
    }
   ],
   "source": [
    "s.customer_list()"
   ]
  },
  {
   "cell_type": "code",
   "execution_count": 94,
   "id": "af4cae9d",
   "metadata": {},
   "outputs": [
    {
     "name": "stdout",
     "output_type": "stream",
     "text": [
      "account created\n"
     ]
    }
   ],
   "source": [
    "s.add_acount(\"ali\",\"0910\",\"karaj\")"
   ]
  },
  {
   "cell_type": "markdown",
   "id": "fe8ca0cd",
   "metadata": {},
   "source": [
    "### product related:"
   ]
  },
  {
   "cell_type": "code",
   "execution_count": 77,
   "id": "b9f9b707",
   "metadata": {},
   "outputs": [],
   "source": [
    "s.add_product(\"laptop\",\"12000\",\"2020\",\"gaming laptop\")"
   ]
  },
  {
   "cell_type": "code",
   "execution_count": 78,
   "id": "22d865ac",
   "metadata": {},
   "outputs": [
    {
     "name": "stdout",
     "output_type": "stream",
     "text": [
      "[(1, 'laptop', 12000.0, 2020, 'gaming laptop')]\n"
     ]
    }
   ],
   "source": [
    "s.products_list()"
   ]
  },
  {
   "cell_type": "code",
   "execution_count": 79,
   "id": "2c3669e9",
   "metadata": {},
   "outputs": [],
   "source": [
    "s.add_product(\"TV\",\"32000\",\"2022\",\"24 inch\")"
   ]
  },
  {
   "cell_type": "code",
   "execution_count": 80,
   "id": "ddcaf6a7",
   "metadata": {},
   "outputs": [
    {
     "name": "stdout",
     "output_type": "stream",
     "text": [
      "[(1, 'laptop', 12000.0, 2020, 'gaming laptop'), (2, 'TV', 32000.0, 2022, '24 inch')]\n"
     ]
    }
   ],
   "source": [
    "s.products_list()"
   ]
  },
  {
   "cell_type": "code",
   "execution_count": 81,
   "id": "56e73cb2",
   "metadata": {},
   "outputs": [
    {
     "name": "stdout",
     "output_type": "stream",
     "text": [
      "the product ID is (2,) .\n"
     ]
    }
   ],
   "source": [
    "s.whats_product_iD(\"TV\",\"2022\")"
   ]
  },
  {
   "cell_type": "code",
   "execution_count": 82,
   "id": "aabc2520",
   "metadata": {},
   "outputs": [],
   "source": [
    "s.delete_product(2)"
   ]
  },
  {
   "cell_type": "code",
   "execution_count": 83,
   "id": "133ed625",
   "metadata": {},
   "outputs": [
    {
     "name": "stdout",
     "output_type": "stream",
     "text": [
      "[(1, 'laptop', 12000.0, 2020, 'gaming laptop')]\n"
     ]
    }
   ],
   "source": [
    "s.products_list()"
   ]
  },
  {
   "cell_type": "code",
   "execution_count": 99,
   "id": "67541d00",
   "metadata": {},
   "outputs": [],
   "source": [
    "s.add_product(\"TV\",\"32000\",\"2022\",\"24 inch\")"
   ]
  },
  {
   "cell_type": "markdown",
   "id": "384f24bc",
   "metadata": {},
   "source": [
    "### basket related:"
   ]
  },
  {
   "cell_type": "code",
   "execution_count": 108,
   "id": "e536bafc",
   "metadata": {},
   "outputs": [
    {
     "name": "stdout",
     "output_type": "stream",
     "text": [
      "Added 2 of product 1 to basket\n"
     ]
    }
   ],
   "source": [
    "s.add_to_basket(1,1,2)"
   ]
  },
  {
   "cell_type": "markdown",
   "id": "e108ecbe",
   "metadata": {},
   "source": [
    "i ran this part twice:"
   ]
  },
  {
   "cell_type": "code",
   "execution_count": 109,
   "id": "b32da080",
   "metadata": {},
   "outputs": [
    {
     "name": "stdout",
     "output_type": "stream",
     "text": [
      "ID: 1, Name: laptop, Price: 12000.0, Qty: 2, Total: 24000.0\n",
      "ID: 1, Name: laptop, Price: 12000.0, Qty: 2, Total: 24000.0\n",
      " Total: 48000.0\n"
     ]
    }
   ],
   "source": [
    "s.view_basket(1)"
   ]
  },
  {
   "cell_type": "code",
   "execution_count": 112,
   "id": "2baea13c",
   "metadata": {},
   "outputs": [
    {
     "name": "stdout",
     "output_type": "stream",
     "text": [
      "Removed 1 of product 1\n"
     ]
    }
   ],
   "source": [
    "s.remove_from_basket(1,1,1)"
   ]
  },
  {
   "cell_type": "code",
   "execution_count": 113,
   "id": "795fa60e",
   "metadata": {},
   "outputs": [
    {
     "name": "stdout",
     "output_type": "stream",
     "text": [
      "ID: 1, Name: laptop, Price: 12000.0, Qty: 1, Total: 12000.0\n",
      "ID: 1, Name: laptop, Price: 12000.0, Qty: 1, Total: 12000.0\n",
      " Total: 24000.0\n"
     ]
    }
   ],
   "source": [
    "s.view_basket(1)"
   ]
  },
  {
   "cell_type": "code",
   "execution_count": 114,
   "id": "a253eaee",
   "metadata": {},
   "outputs": [
    {
     "name": "stdout",
     "output_type": "stream",
     "text": [
      "complete\n"
     ]
    }
   ],
   "source": [
    "s.checkout(1)"
   ]
  },
  {
   "cell_type": "code",
   "execution_count": 116,
   "id": "380cac06",
   "metadata": {},
   "outputs": [
    {
     "name": "stdout",
     "output_type": "stream",
     "text": [
      "empty\n"
     ]
    }
   ],
   "source": [
    "s.view_basket(1)"
   ]
  }
 ],
 "metadata": {
  "kernelspec": {
   "display_name": "Python 3",
   "language": "python",
   "name": "python3"
  },
  "language_info": {
   "codemirror_mode": {
    "name": "ipython",
    "version": 3
   },
   "file_extension": ".py",
   "mimetype": "text/x-python",
   "name": "python",
   "nbconvert_exporter": "python",
   "pygments_lexer": "ipython3",
   "version": "3.10.7"
  }
 },
 "nbformat": 4,
 "nbformat_minor": 5
}
