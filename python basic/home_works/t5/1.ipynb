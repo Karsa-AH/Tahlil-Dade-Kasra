{
 "cells": [
  {
   "cell_type": "markdown",
   "metadata": {},
   "source": [
    "# 1:\n",
    ">there are much faster ways but i kept it simple :)"
   ]
  },
  {
   "cell_type": "code",
   "execution_count": 23,
   "metadata": {},
   "outputs": [
    {
     "name": "stdout",
     "output_type": "stream",
     "text": [
      "1\n",
      "3\n",
      "7\n"
     ]
    }
   ],
   "source": [
    "a=[1,2,3,4,5,6,7]\n",
    "b=[8,9,10,1,7,3]\n",
    "t=False\n",
    "for i in a:\n",
    "    for o in b:\n",
    "        if(i==o):\n",
    "            t=True\n",
    "            break\n",
    "    if(t==True):\n",
    "        t=False\n",
    "        print(i)    "
   ]
  },
  {
   "cell_type": "markdown",
   "metadata": {},
   "source": [
    "# 2"
   ]
  },
  {
   "cell_type": "code",
   "execution_count": 1,
   "metadata": {},
   "outputs": [
    {
     "data": {
      "text/plain": [
       "True"
      ]
     },
     "execution_count": 1,
     "metadata": {},
     "output_type": "execute_result"
    }
   ],
   "source": [
    "a=[1,2,3,5.5,6]\n",
    "a==sorted(a)"
   ]
  },
  {
   "cell_type": "markdown",
   "metadata": {},
   "source": [
    "# 3"
   ]
  },
  {
   "cell_type": "code",
   "execution_count": 66,
   "metadata": {},
   "outputs": [
    {
     "data": {
      "text/plain": [
       "['yello',\n",
       " 'hallo',\n",
       " 'hello',\n",
       " 'hello',\n",
       " 'yello',\n",
       " 'hallo',\n",
       " 'hello',\n",
       " 'hello',\n",
       " 'hallo',\n",
       " 'mello',\n",
       " 'mello',\n",
       " 'hallo',\n",
       " 'mello',\n",
       " 'hello',\n",
       " 'hello',\n",
       " 'hallo',\n",
       " 'hello',\n",
       " 'yello',\n",
       " 'yello',\n",
       " 'hello',\n",
       " 'hallo',\n",
       " 'hallo',\n",
       " 'hello',\n",
       " 'mello',\n",
       " 'mello',\n",
       " 'hallo',\n",
       " 'hello',\n",
       " 'hello',\n",
       " 'hello',\n",
       " 'yello',\n",
       " 'hello',\n",
       " 'mello',\n",
       " 'hallo',\n",
       " 'hallo',\n",
       " 'hello',\n",
       " 'hallo',\n",
       " 'mello',\n",
       " 'hello',\n",
       " 'hallo',\n",
       " 'yello',\n",
       " 'mello',\n",
       " 'yello',\n",
       " 'hallo',\n",
       " 'hallo',\n",
       " 'hello',\n",
       " 'yello',\n",
       " 'mello',\n",
       " 'hallo',\n",
       " 'hello',\n",
       " 'yello',\n",
       " 'hallo',\n",
       " 'mello',\n",
       " 'hello',\n",
       " 'hallo',\n",
       " 'hallo',\n",
       " 'hallo',\n",
       " 'mello',\n",
       " 'hallo',\n",
       " 'mello',\n",
       " 'hello',\n",
       " 'yello',\n",
       " 'mello',\n",
       " 'mello',\n",
       " 'hello',\n",
       " 'hallo',\n",
       " 'yello',\n",
       " 'hallo',\n",
       " 'hallo',\n",
       " 'hallo',\n",
       " 'hallo',\n",
       " 'yello',\n",
       " 'mello',\n",
       " 'hello',\n",
       " 'yello',\n",
       " 'mello',\n",
       " 'mello',\n",
       " 'mello',\n",
       " 'yello',\n",
       " 'hallo',\n",
       " 'hallo',\n",
       " 'hello',\n",
       " 'hello',\n",
       " 'mello',\n",
       " 'mello',\n",
       " 'yello',\n",
       " 'mello',\n",
       " 'hallo',\n",
       " 'hello',\n",
       " 'hello',\n",
       " 'yello',\n",
       " 'mello',\n",
       " 'hello',\n",
       " 'hallo',\n",
       " 'hello',\n",
       " 'yello',\n",
       " 'mello',\n",
       " 'yello',\n",
       " 'yello',\n",
       " 'hello',\n",
       " 'yello']"
      ]
     },
     "execution_count": 66,
     "metadata": {},
     "output_type": "execute_result"
    }
   ],
   "source": [
    "import random as rn\n",
    "a=[\"hello\",\"yello\",\"mello\",\"hallo\"]\n",
    "b=[]\n",
    "for i in range(0,100):\n",
    "    b.append(a[rn. randint(0,3)])\n",
    "b    "
   ]
  },
  {
   "cell_type": "markdown",
   "metadata": {},
   "source": [
    "# 3.5"
   ]
  },
  {
   "cell_type": "code",
   "execution_count": 71,
   "metadata": {},
   "outputs": [
    {
     "data": {
      "text/plain": [
       "['hello',\n",
       " 'hello',\n",
       " 'hello',\n",
       " 'hello',\n",
       " 'hello',\n",
       " 'hello',\n",
       " 'hello',\n",
       " 'hello',\n",
       " 'hello',\n",
       " 'hello',\n",
       " 'hello',\n",
       " 'hello',\n",
       " 'hello',\n",
       " 'hello',\n",
       " 'hello',\n",
       " 'hello',\n",
       " 'hello',\n",
       " 'hello',\n",
       " 'hello',\n",
       " 'hello',\n",
       " 'hello',\n",
       " 'hello',\n",
       " 'hello',\n",
       " 'hello',\n",
       " 'hello',\n",
       " 'hello',\n",
       " 'hello',\n",
       " 'hello']"
      ]
     },
     "execution_count": 71,
     "metadata": {},
     "output_type": "execute_result"
    }
   ],
   "source": [
    "r=len(b)\n",
    "i=0\n",
    "while i != r:\n",
    "    \n",
    "    if(b[i]!=\"hello\"):\n",
    "        r=r-1\n",
    "        del(b[i])\n",
    "        i = i-1\n",
    "    i += 1     \n",
    "b"
   ]
  },
  {
   "cell_type": "markdown",
   "metadata": {},
   "source": [
    "# 4"
   ]
  },
  {
   "cell_type": "code",
   "execution_count": 108,
   "metadata": {},
   "outputs": [
    {
     "data": {
      "text/plain": [
       "{'milk': 5, 'suger': 2, 'butter': 10, 'yogurt': 1, 'cheese': 3}"
      ]
     },
     "execution_count": 108,
     "metadata": {},
     "output_type": "execute_result"
    }
   ],
   "source": [
    "list_1=[\"milk\",\"suger\",\"butter\",\"yogurt\",\"cheese\"]\n",
    "list_2 =  [5,2,10,1,3]\n",
    "dict = {}\n",
    "for a in range(0,len(list_2)):\n",
    "    dict.setdefault(str(list_1[a]),list_2[a])\n",
    "dict    \n"
   ]
  },
  {
   "cell_type": "markdown",
   "metadata": {},
   "source": [
    "# 5"
   ]
  },
  {
   "cell_type": "code",
   "execution_count": 125,
   "metadata": {},
   "outputs": [
    {
     "name": "stdout",
     "output_type": "stream",
     "text": [
      "max : 4 and min : 2\n"
     ]
    }
   ],
   "source": [
    "d={\"a\":2,\"c\":3,\"d\":4}\n",
    "a=list(d.values())\n",
    "sorted(a)\n",
    "print(f\"max : {a[-1]} and min : {a[0]}\")"
   ]
  },
  {
   "cell_type": "markdown",
   "metadata": {},
   "source": [
    "# 6"
   ]
  },
  {
   "cell_type": "code",
   "execution_count": null,
   "metadata": {},
   "outputs": [
    {
     "data": {
      "text/plain": [
       "{'i': 16,\n",
       " 'n': 18,\n",
       " 'a': 14,\n",
       " 'q': 1,\n",
       " 'u': 2,\n",
       " 'e': 22,\n",
       " 't': 17,\n",
       " 'v': 5,\n",
       " 'l': 14,\n",
       " 'g': 8,\n",
       " 'o': 10,\n",
       " 'r': 9,\n",
       " 'w': 2,\n",
       " 'd': 7,\n",
       " 'y': 2,\n",
       " 'h': 11,\n",
       " 's': 6,\n",
       " 'c': 3,\n",
       " 'f': 4,\n",
       " 'p': 1,\n",
       " 'm': 1}"
      ]
     },
     "execution_count": 157,
     "metadata": {},
     "output_type": "execute_result"
    }
   ],
   "source": [
    "a= \"in a quiet village , long a lone lantern glowed every night. One evening, it vanished. The villagers searched, only to find it in the forest, lighting the path for a lost child. From then on, it was called the Guardian Lantern.\"\n",
    "b={}\n",
    "for i in a:\n",
    "    if(i!=\" \") and (i!=\".\") and (i!=\",\"):\n",
    "        b.setdefault(i.lower(),0)\n",
    "        b[i.lower()] += 1\n",
    "b        "
   ]
  }
 ],
 "metadata": {
  "kernelspec": {
   "display_name": "Python 3",
   "language": "python",
   "name": "python3"
  },
  "language_info": {
   "codemirror_mode": {
    "name": "ipython",
    "version": 3
   },
   "file_extension": ".py",
   "mimetype": "text/x-python",
   "name": "python",
   "nbconvert_exporter": "python",
   "pygments_lexer": "ipython3",
   "version": "3.10.7"
  }
 },
 "nbformat": 4,
 "nbformat_minor": 2
}
